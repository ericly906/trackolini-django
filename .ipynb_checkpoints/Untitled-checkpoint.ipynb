{
 "cells": [
  {
   "cell_type": "code",
   "execution_count": 8,
   "id": "7f9adad8-4bd2-4473-9335-7e14f5196152",
   "metadata": {},
   "outputs": [],
   "source": [
    "import spotipy\n",
    "from spotipy.oauth2 import SpotifyClientCredentials\n",
    "\n",
    "spotify = spotipy.Spotify(auth_manager=SpotifyClientCredentials(client_id=\"ccd3e124a27a4369873ad631f0e7bc21\",\n",
    "                                                           client_secret=\"c2dd204ea9d14b2faa3cfbc3bc80abcf\"))"
   ]
  },
  {
   "cell_type": "code",
   "execution_count": 9,
   "id": "8268b6b9-fdcd-49bf-bb39-f991aa960080",
   "metadata": {},
   "outputs": [
    {
     "name": "stdout",
     "output_type": "stream",
     "text": [
      "track    : Ghost Voices\n",
      "audio    : https://p.scdn.co/mp3-preview/da7d39962c3b56dd96479edd541f6c3710b92b12?cid=ccd3e124a27a4369873ad631f0e7bc21\n",
      "cover art: https://i.scdn.co/image/ab67616d0000b2734ba2d15b6e7f470bfd3e424e\n",
      "uri: spotify:track:7ipGvvE90ROUNFw7ZBXBTO\n",
      "\n",
      "track    : ANGEL VOICES\n",
      "audio    : https://p.scdn.co/mp3-preview/ad799bbbb592fd426f6e78ec4d767fb72f49bd6c?cid=ccd3e124a27a4369873ad631f0e7bc21\n",
      "cover art: https://i.scdn.co/image/ab67616d0000b2738a137b6b8f14a962ed277635\n",
      "uri: spotify:track:69urju2iS7zKGTxNVLYt5D\n",
      "\n",
      "track    : Particle Arts\n",
      "audio    : https://p.scdn.co/mp3-preview/1d248ba9492a7a5dc88dd8883af430c7f846cdd4?cid=ccd3e124a27a4369873ad631f0e7bc21\n",
      "cover art: https://i.scdn.co/image/ab67616d0000b2734ba2d15b6e7f470bfd3e424e\n",
      "uri: spotify:track:5U6FLERTCtCgLUXU4XsIf5\n",
      "\n",
      "track    : EON BREAK\n",
      "audio    : https://p.scdn.co/mp3-preview/6785a9ed9732ef72799d3a0e16144efff2804fcb?cid=ccd3e124a27a4369873ad631f0e7bc21\n",
      "cover art: https://i.scdn.co/image/ab67616d0000b2734ba2d15b6e7f470bfd3e424e\n",
      "uri: spotify:track:2aGn7X6ixuE9P3zaykgoWM\n",
      "\n",
      "track    : a.i.ngel (Become God)\n",
      "audio    : https://p.scdn.co/mp3-preview/9dac550962bbe4921e03e447ca5fc2774fa47bc0?cid=ccd3e124a27a4369873ad631f0e7bc21\n",
      "cover art: https://i.scdn.co/image/ab67616d0000b2734ba2d15b6e7f470bfd3e424e\n",
      "uri: spotify:track:6mEa6eIKJZ99536PCnJymz\n",
      "\n",
      "track    : Key\n",
      "audio    : https://p.scdn.co/mp3-preview/b455f041f4de7596eb81e6d569f529b898e22014?cid=ccd3e124a27a4369873ad631f0e7bc21\n",
      "cover art: https://i.scdn.co/image/ab67616d0000b2734ba2d15b6e7f470bfd3e424e\n",
      "uri: spotify:track:0IfrEjgQpic3vnDYYgtp9C\n",
      "\n",
      "track    : Ghost Voices - Radio Edit\n",
      "audio    : https://p.scdn.co/mp3-preview/700e367f846629da147111b4218b0f044a0dfd3e?cid=ccd3e124a27a4369873ad631f0e7bc21\n",
      "cover art: https://i.scdn.co/image/ab67616d0000b2735e965541fd223a1aeb5badd1\n",
      "uri: spotify:track:1PW2yk9vy9UBq738C4KZP7\n",
      "\n",
      "track    : Ghost Voices - Raito Remix\n",
      "audio    : https://p.scdn.co/mp3-preview/5bbb2115ad38ca2d26aa93735ed824b9ab609caf?cid=ccd3e124a27a4369873ad631f0e7bc21\n",
      "cover art: https://i.scdn.co/image/ab67616d0000b273fdcfc87dee92f91802513935\n",
      "uri: spotify:track:20dSSd0dBDPtVnQJ1X5HM1\n",
      "\n",
      "track    : Ghost Voices - Raito Old School Remix\n",
      "audio    : https://p.scdn.co/mp3-preview/a3e2a9aa0bce0a7e70ab353daef7dff16962e082?cid=ccd3e124a27a4369873ad631f0e7bc21\n",
      "cover art: https://i.scdn.co/image/ab67616d0000b273fdcfc87dee92f91802513935\n",
      "uri: spotify:track:0PNhnZ8bMadKzP07XVVkvD\n",
      "\n",
      "track    : Ghost Voices (Mixed) - Raito Remix\n",
      "audio    : https://p.scdn.co/mp3-preview/45ef238c7ec5485ad029bdf9a7d0cc07e80b0d9b?cid=ccd3e124a27a4369873ad631f0e7bc21\n",
      "cover art: https://i.scdn.co/image/ab67616d0000b2733fc6ea34ea96b202f0e846dd\n",
      "uri: spotify:track:2gB2TiD2hM3lj6nwUmzQJp\n",
      "\n",
      "['Ghost Voices', 'ANGEL VOICES', 'Particle Arts', 'EON BREAK', 'a.i.ngel (Become God)', 'Key', 'Ghost Voices - Radio Edit', 'Ghost Voices - Raito Remix', 'Ghost Voices - Raito Old School Remix', 'Ghost Voices (Mixed) - Raito Remix']\n",
      "['spotify:track:7ipGvvE90ROUNFw7ZBXBTO', 'spotify:track:69urju2iS7zKGTxNVLYt5D', 'spotify:track:5U6FLERTCtCgLUXU4XsIf5', 'spotify:track:2aGn7X6ixuE9P3zaykgoWM', 'spotify:track:6mEa6eIKJZ99536PCnJymz', 'spotify:track:0IfrEjgQpic3vnDYYgtp9C', 'spotify:track:1PW2yk9vy9UBq738C4KZP7', 'spotify:track:20dSSd0dBDPtVnQJ1X5HM1', 'spotify:track:0PNhnZ8bMadKzP07XVVkvD', 'spotify:track:2gB2TiD2hM3lj6nwUmzQJp']\n"
     ]
    }
   ],
   "source": [
    "vs_uri = 'spotify:artist:0F52YLV7uWqaJfMMDgG737'\n",
    "\n",
    "\n",
    "results = spotify.artist_top_tracks(vs_uri)\n",
    "track_names = []\n",
    "track_uris = []\n",
    "for track in results['tracks'][:10]:\n",
    "    print('track    : ' + track['name'])\n",
    "    print('audio    : ' + track['preview_url'])\n",
    "    print('cover art: ' + track['album']['images'][0]['url'])\n",
    "    print('uri: ' + track['uri'])\n",
    "    track_names.append(track['name'])\n",
    "    track_uris.append(track['uri'])\n",
    "    print()\n",
    "print(track_names)\n",
    "print(track_uris)"
   ]
  },
  {
   "cell_type": "code",
   "execution_count": 10,
   "id": "d7335e3a-1d0a-4e70-9920-69c4875f3354",
   "metadata": {},
   "outputs": [],
   "source": [
    "track_tempos = []\n",
    "track_loudness = []\n",
    "track_key = []\n",
    "for track in track_uris:\n",
    "    track_tempos.append(spotify.audio_analysis(track)['track']['tempo'])\n",
    "    track_loudness.append(spotify.audio_analysis(track)['track']['loudness'])\n",
    "    track_key.append(spotify.audio_analysis(track)['track']['key'])"
   ]
  },
  {
   "cell_type": "code",
   "execution_count": 34,
   "id": "98a30a99-99de-4f12-a36c-8f0006989952",
   "metadata": {},
   "outputs": [],
   "source": [
    "import pandas as pd\n",
    "import scipy as sp\n",
    "import plotly\n",
    "import chart_studio.plotly as py\n",
    "import plotly.graph_objects as go\n",
    "from plotly.offline import plot"
   ]
  },
  {
   "cell_type": "code",
   "execution_count": 35,
   "id": "9a266aab-79df-4b49-8d52-7bf4fec40d10",
   "metadata": {},
   "outputs": [],
   "source": [
    "data = [go.Bar(x=track_names,\n",
    "            y=track_tempos)]\n",
    "fig = go.Figure()\n",
    "fig.add_trace(go.Bar(x=track_names,\n",
    "            y=track_tempos))\n",
    "fig.update_layout(\n",
    "    title=\"Tempos of Virtual Self Tracks\",\n",
    "    xaxis_title=\"Track IDs\",\n",
    "    yaxis_title=\"Tempo (BPM)\",\n",
    "    legend_title=\"Legend Title\",\n",
    "    font=dict(\n",
    "        family=\"Courier New, monospace\",\n",
    "        size=12,\n",
    "        color=\"RebeccaPurple\"\n",
    "    )\n",
    ")\n",
    "plt_div = plot(fig, output_type='div')"
   ]
  },
  {
   "cell_type": "code",
   "execution_count": 37,
   "id": "265f8335-16cb-459f-a69f-0263d95d5875",
   "metadata": {},
   "outputs": [
    {
     "data": {
      "application/vnd.plotly.v1+json": {
       "config": {
        "plotlyServerURL": "https://plot.ly"
       },
       "data": [
        {
         "type": "bar",
         "x": [
          "Ghost Voices",
          "ANGEL VOICES",
          "Particle Arts",
          "EON BREAK",
          "a.i.ngel (Become God)",
          "Key",
          "Ghost Voices - Radio Edit",
          "Ghost Voices - Raito Remix",
          "Ghost Voices - Raito Old School Remix",
          "Ghost Voices (Mixed) - Raito Remix"
         ],
         "y": [
          -8.332,
          -5.328,
          -7.273,
          -6.225,
          -6.161,
          -4.992,
          -8.281,
          -5.948,
          -4.988,
          -5.507
         ]
        }
       ],
       "layout": {
        "autosize": true,
        "font": {
         "color": "RebeccaPurple",
         "family": "Courier New, monospace",
         "size": 12
        },
        "template": {
         "data": {
          "bar": [
           {
            "error_x": {
             "color": "#2a3f5f"
            },
            "error_y": {
             "color": "#2a3f5f"
            },
            "marker": {
             "line": {
              "color": "#E5ECF6",
              "width": 0.5
             },
             "pattern": {
              "fillmode": "overlay",
              "size": 10,
              "solidity": 0.2
             }
            },
            "type": "bar"
           }
          ],
          "barpolar": [
           {
            "marker": {
             "line": {
              "color": "#E5ECF6",
              "width": 0.5
             },
             "pattern": {
              "fillmode": "overlay",
              "size": 10,
              "solidity": 0.2
             }
            },
            "type": "barpolar"
           }
          ],
          "carpet": [
           {
            "aaxis": {
             "endlinecolor": "#2a3f5f",
             "gridcolor": "white",
             "linecolor": "white",
             "minorgridcolor": "white",
             "startlinecolor": "#2a3f5f"
            },
            "baxis": {
             "endlinecolor": "#2a3f5f",
             "gridcolor": "white",
             "linecolor": "white",
             "minorgridcolor": "white",
             "startlinecolor": "#2a3f5f"
            },
            "type": "carpet"
           }
          ],
          "choropleth": [
           {
            "colorbar": {
             "outlinewidth": 0,
             "ticks": ""
            },
            "type": "choropleth"
           }
          ],
          "contour": [
           {
            "colorbar": {
             "outlinewidth": 0,
             "ticks": ""
            },
            "colorscale": [
             [
              0,
              "#0d0887"
             ],
             [
              0.1111111111111111,
              "#46039f"
             ],
             [
              0.2222222222222222,
              "#7201a8"
             ],
             [
              0.3333333333333333,
              "#9c179e"
             ],
             [
              0.4444444444444444,
              "#bd3786"
             ],
             [
              0.5555555555555556,
              "#d8576b"
             ],
             [
              0.6666666666666666,
              "#ed7953"
             ],
             [
              0.7777777777777778,
              "#fb9f3a"
             ],
             [
              0.8888888888888888,
              "#fdca26"
             ],
             [
              1,
              "#f0f921"
             ]
            ],
            "type": "contour"
           }
          ],
          "contourcarpet": [
           {
            "colorbar": {
             "outlinewidth": 0,
             "ticks": ""
            },
            "type": "contourcarpet"
           }
          ],
          "heatmap": [
           {
            "colorbar": {
             "outlinewidth": 0,
             "ticks": ""
            },
            "colorscale": [
             [
              0,
              "#0d0887"
             ],
             [
              0.1111111111111111,
              "#46039f"
             ],
             [
              0.2222222222222222,
              "#7201a8"
             ],
             [
              0.3333333333333333,
              "#9c179e"
             ],
             [
              0.4444444444444444,
              "#bd3786"
             ],
             [
              0.5555555555555556,
              "#d8576b"
             ],
             [
              0.6666666666666666,
              "#ed7953"
             ],
             [
              0.7777777777777778,
              "#fb9f3a"
             ],
             [
              0.8888888888888888,
              "#fdca26"
             ],
             [
              1,
              "#f0f921"
             ]
            ],
            "type": "heatmap"
           }
          ],
          "heatmapgl": [
           {
            "colorbar": {
             "outlinewidth": 0,
             "ticks": ""
            },
            "colorscale": [
             [
              0,
              "#0d0887"
             ],
             [
              0.1111111111111111,
              "#46039f"
             ],
             [
              0.2222222222222222,
              "#7201a8"
             ],
             [
              0.3333333333333333,
              "#9c179e"
             ],
             [
              0.4444444444444444,
              "#bd3786"
             ],
             [
              0.5555555555555556,
              "#d8576b"
             ],
             [
              0.6666666666666666,
              "#ed7953"
             ],
             [
              0.7777777777777778,
              "#fb9f3a"
             ],
             [
              0.8888888888888888,
              "#fdca26"
             ],
             [
              1,
              "#f0f921"
             ]
            ],
            "type": "heatmapgl"
           }
          ],
          "histogram": [
           {
            "marker": {
             "pattern": {
              "fillmode": "overlay",
              "size": 10,
              "solidity": 0.2
             }
            },
            "type": "histogram"
           }
          ],
          "histogram2d": [
           {
            "colorbar": {
             "outlinewidth": 0,
             "ticks": ""
            },
            "colorscale": [
             [
              0,
              "#0d0887"
             ],
             [
              0.1111111111111111,
              "#46039f"
             ],
             [
              0.2222222222222222,
              "#7201a8"
             ],
             [
              0.3333333333333333,
              "#9c179e"
             ],
             [
              0.4444444444444444,
              "#bd3786"
             ],
             [
              0.5555555555555556,
              "#d8576b"
             ],
             [
              0.6666666666666666,
              "#ed7953"
             ],
             [
              0.7777777777777778,
              "#fb9f3a"
             ],
             [
              0.8888888888888888,
              "#fdca26"
             ],
             [
              1,
              "#f0f921"
             ]
            ],
            "type": "histogram2d"
           }
          ],
          "histogram2dcontour": [
           {
            "colorbar": {
             "outlinewidth": 0,
             "ticks": ""
            },
            "colorscale": [
             [
              0,
              "#0d0887"
             ],
             [
              0.1111111111111111,
              "#46039f"
             ],
             [
              0.2222222222222222,
              "#7201a8"
             ],
             [
              0.3333333333333333,
              "#9c179e"
             ],
             [
              0.4444444444444444,
              "#bd3786"
             ],
             [
              0.5555555555555556,
              "#d8576b"
             ],
             [
              0.6666666666666666,
              "#ed7953"
             ],
             [
              0.7777777777777778,
              "#fb9f3a"
             ],
             [
              0.8888888888888888,
              "#fdca26"
             ],
             [
              1,
              "#f0f921"
             ]
            ],
            "type": "histogram2dcontour"
           }
          ],
          "mesh3d": [
           {
            "colorbar": {
             "outlinewidth": 0,
             "ticks": ""
            },
            "type": "mesh3d"
           }
          ],
          "parcoords": [
           {
            "line": {
             "colorbar": {
              "outlinewidth": 0,
              "ticks": ""
             }
            },
            "type": "parcoords"
           }
          ],
          "pie": [
           {
            "automargin": true,
            "type": "pie"
           }
          ],
          "scatter": [
           {
            "marker": {
             "colorbar": {
              "outlinewidth": 0,
              "ticks": ""
             }
            },
            "type": "scatter"
           }
          ],
          "scatter3d": [
           {
            "line": {
             "colorbar": {
              "outlinewidth": 0,
              "ticks": ""
             }
            },
            "marker": {
             "colorbar": {
              "outlinewidth": 0,
              "ticks": ""
             }
            },
            "type": "scatter3d"
           }
          ],
          "scattercarpet": [
           {
            "marker": {
             "colorbar": {
              "outlinewidth": 0,
              "ticks": ""
             }
            },
            "type": "scattercarpet"
           }
          ],
          "scattergeo": [
           {
            "marker": {
             "colorbar": {
              "outlinewidth": 0,
              "ticks": ""
             }
            },
            "type": "scattergeo"
           }
          ],
          "scattergl": [
           {
            "marker": {
             "colorbar": {
              "outlinewidth": 0,
              "ticks": ""
             }
            },
            "type": "scattergl"
           }
          ],
          "scattermapbox": [
           {
            "marker": {
             "colorbar": {
              "outlinewidth": 0,
              "ticks": ""
             }
            },
            "type": "scattermapbox"
           }
          ],
          "scatterpolar": [
           {
            "marker": {
             "colorbar": {
              "outlinewidth": 0,
              "ticks": ""
             }
            },
            "type": "scatterpolar"
           }
          ],
          "scatterpolargl": [
           {
            "marker": {
             "colorbar": {
              "outlinewidth": 0,
              "ticks": ""
             }
            },
            "type": "scatterpolargl"
           }
          ],
          "scatterternary": [
           {
            "marker": {
             "colorbar": {
              "outlinewidth": 0,
              "ticks": ""
             }
            },
            "type": "scatterternary"
           }
          ],
          "surface": [
           {
            "colorbar": {
             "outlinewidth": 0,
             "ticks": ""
            },
            "colorscale": [
             [
              0,
              "#0d0887"
             ],
             [
              0.1111111111111111,
              "#46039f"
             ],
             [
              0.2222222222222222,
              "#7201a8"
             ],
             [
              0.3333333333333333,
              "#9c179e"
             ],
             [
              0.4444444444444444,
              "#bd3786"
             ],
             [
              0.5555555555555556,
              "#d8576b"
             ],
             [
              0.6666666666666666,
              "#ed7953"
             ],
             [
              0.7777777777777778,
              "#fb9f3a"
             ],
             [
              0.8888888888888888,
              "#fdca26"
             ],
             [
              1,
              "#f0f921"
             ]
            ],
            "type": "surface"
           }
          ],
          "table": [
           {
            "cells": {
             "fill": {
              "color": "#EBF0F8"
             },
             "line": {
              "color": "white"
             }
            },
            "header": {
             "fill": {
              "color": "#C8D4E3"
             },
             "line": {
              "color": "white"
             }
            },
            "type": "table"
           }
          ]
         },
         "layout": {
          "annotationdefaults": {
           "arrowcolor": "#2a3f5f",
           "arrowhead": 0,
           "arrowwidth": 1
          },
          "autotypenumbers": "strict",
          "coloraxis": {
           "colorbar": {
            "outlinewidth": 0,
            "ticks": ""
           }
          },
          "colorscale": {
           "diverging": [
            [
             0,
             "#8e0152"
            ],
            [
             0.1,
             "#c51b7d"
            ],
            [
             0.2,
             "#de77ae"
            ],
            [
             0.3,
             "#f1b6da"
            ],
            [
             0.4,
             "#fde0ef"
            ],
            [
             0.5,
             "#f7f7f7"
            ],
            [
             0.6,
             "#e6f5d0"
            ],
            [
             0.7,
             "#b8e186"
            ],
            [
             0.8,
             "#7fbc41"
            ],
            [
             0.9,
             "#4d9221"
            ],
            [
             1,
             "#276419"
            ]
           ],
           "sequential": [
            [
             0,
             "#0d0887"
            ],
            [
             0.1111111111111111,
             "#46039f"
            ],
            [
             0.2222222222222222,
             "#7201a8"
            ],
            [
             0.3333333333333333,
             "#9c179e"
            ],
            [
             0.4444444444444444,
             "#bd3786"
            ],
            [
             0.5555555555555556,
             "#d8576b"
            ],
            [
             0.6666666666666666,
             "#ed7953"
            ],
            [
             0.7777777777777778,
             "#fb9f3a"
            ],
            [
             0.8888888888888888,
             "#fdca26"
            ],
            [
             1,
             "#f0f921"
            ]
           ],
           "sequentialminus": [
            [
             0,
             "#0d0887"
            ],
            [
             0.1111111111111111,
             "#46039f"
            ],
            [
             0.2222222222222222,
             "#7201a8"
            ],
            [
             0.3333333333333333,
             "#9c179e"
            ],
            [
             0.4444444444444444,
             "#bd3786"
            ],
            [
             0.5555555555555556,
             "#d8576b"
            ],
            [
             0.6666666666666666,
             "#ed7953"
            ],
            [
             0.7777777777777778,
             "#fb9f3a"
            ],
            [
             0.8888888888888888,
             "#fdca26"
            ],
            [
             1,
             "#f0f921"
            ]
           ]
          },
          "colorway": [
           "#636efa",
           "#EF553B",
           "#00cc96",
           "#ab63fa",
           "#FFA15A",
           "#19d3f3",
           "#FF6692",
           "#B6E880",
           "#FF97FF",
           "#FECB52"
          ],
          "font": {
           "color": "#2a3f5f"
          },
          "geo": {
           "bgcolor": "white",
           "lakecolor": "white",
           "landcolor": "#E5ECF6",
           "showlakes": true,
           "showland": true,
           "subunitcolor": "white"
          },
          "hoverlabel": {
           "align": "left"
          },
          "hovermode": "closest",
          "mapbox": {
           "style": "light"
          },
          "paper_bgcolor": "white",
          "plot_bgcolor": "#E5ECF6",
          "polar": {
           "angularaxis": {
            "gridcolor": "white",
            "linecolor": "white",
            "ticks": ""
           },
           "bgcolor": "#E5ECF6",
           "radialaxis": {
            "gridcolor": "white",
            "linecolor": "white",
            "ticks": ""
           }
          },
          "scene": {
           "xaxis": {
            "backgroundcolor": "#E5ECF6",
            "gridcolor": "white",
            "gridwidth": 2,
            "linecolor": "white",
            "showbackground": true,
            "ticks": "",
            "zerolinecolor": "white"
           },
           "yaxis": {
            "backgroundcolor": "#E5ECF6",
            "gridcolor": "white",
            "gridwidth": 2,
            "linecolor": "white",
            "showbackground": true,
            "ticks": "",
            "zerolinecolor": "white"
           },
           "zaxis": {
            "backgroundcolor": "#E5ECF6",
            "gridcolor": "white",
            "gridwidth": 2,
            "linecolor": "white",
            "showbackground": true,
            "ticks": "",
            "zerolinecolor": "white"
           }
          },
          "shapedefaults": {
           "line": {
            "color": "#2a3f5f"
           }
          },
          "ternary": {
           "aaxis": {
            "gridcolor": "white",
            "linecolor": "white",
            "ticks": ""
           },
           "baxis": {
            "gridcolor": "white",
            "linecolor": "white",
            "ticks": ""
           },
           "bgcolor": "#E5ECF6",
           "caxis": {
            "gridcolor": "white",
            "linecolor": "white",
            "ticks": ""
           }
          },
          "title": {
           "x": 0.05
          },
          "xaxis": {
           "automargin": true,
           "gridcolor": "white",
           "linecolor": "white",
           "ticks": "",
           "title": {
            "standoff": 15
           },
           "zerolinecolor": "white",
           "zerolinewidth": 2
          },
          "yaxis": {
           "automargin": true,
           "gridcolor": "white",
           "linecolor": "white",
           "ticks": "",
           "title": {
            "standoff": 15
           },
           "zerolinecolor": "white",
           "zerolinewidth": 2
          }
         }
        },
        "title": {
         "text": "Tempos of Virtual Self Tracks"
        },
        "xaxis": {
         "autorange": true,
         "range": [
          -0.5,
          9.5
         ],
         "title": {
          "text": "Track IDs"
         },
         "type": "category"
        },
        "yaxis": {
         "autorange": true,
         "range": [
          -8.770526315789475,
          0
         ],
         "title": {
          "text": "Loudness (LUFs)"
         },
         "type": "linear"
        }
       }
      },
      "image/png": "[encoded data removed]",
      "text/html": [
       "<div>                            <div id=\"dd2e741c-c7fb-44ec-8644-1681dad1d6af\" class=\"plotly-graph-div\" style=\"height:525px; width:100%;\"></div>            <script type=\"text/javascript\">                require([\"plotly\"], function(Plotly) {                    window.PLOTLYENV=window.PLOTLYENV || {};                                    if (document.getElementById(\"dd2e741c-c7fb-44ec-8644-1681dad1d6af\")) {                    Plotly.newPlot(                        \"dd2e741c-c7fb-44ec-8644-1681dad1d6af\",                        [{\"x\":[\"Ghost Voices\",\"ANGEL VOICES\",\"Particle Arts\",\"EON BREAK\",\"a.i.ngel (Become God)\",\"Key\",\"Ghost Voices - Radio Edit\",\"Ghost Voices - Raito Remix\",\"Ghost Voices - Raito Old School Remix\",\"Ghost Voices (Mixed) - Raito Remix\"],\"y\":[-8.332,-5.328,-7.273,-6.225,-6.161,-4.992,-8.281,-5.948,-4.988,-5.507],\"type\":\"bar\"}],                        {\"template\":{\"data\":{\"bar\":[{\"error_x\":{\"color\":\"#2a3f5f\"},\"error_y\":{\"color\":\"#2a3f5f\"},\"marker\":{\"line\":{\"color\":\"#E5ECF6\",\"width\":0.5},\"pattern\":{\"fillmode\":\"overlay\",\"size\":10,\"solidity\":0.2}},\"type\":\"bar\"}],\"barpolar\":[{\"marker\":{\"line\":{\"color\":\"#E5ECF6\",\"width\":0.5},\"pattern\":{\"fillmode\":\"overlay\",\"size\":10,\"solidity\":0.2}},\"type\":\"barpolar\"}],\"carpet\":[{\"aaxis\":{\"endlinecolor\":\"#2a3f5f\",\"gridcolor\":\"white\",\"linecolor\":\"white\",\"minorgridcolor\":\"white\",\"startlinecolor\":\"#2a3f5f\"},\"baxis\":{\"endlinecolor\":\"#2a3f5f\",\"gridcolor\":\"white\",\"linecolor\":\"white\",\"minorgridcolor\":\"white\",\"startlinecolor\":\"#2a3f5f\"},\"type\":\"carpet\"}],\"choropleth\":[{\"colorbar\":{\"outlinewidth\":0,\"ticks\":\"\"},\"type\":\"choropleth\"}],\"contour\":[{\"colorbar\":{\"outlinewidth\":0,\"ticks\":\"\"},\"colorscale\":[[0.0,\"#0d0887\"],[0.1111111111111111,\"#46039f\"],[0.2222222222222222,\"#7201a8\"],[0.3333333333333333,\"#9c179e\"],[0.4444444444444444,\"#bd3786\"],[0.5555555555555556,\"#d8576b\"],[0.6666666666666666,\"#ed7953\"],[0.7777777777777778,\"#fb9f3a\"],[0.8888888888888888,\"#fdca26\"],[1.0,\"#f0f921\"]],\"type\":\"contour\"}],\"contourcarpet\":[{\"colorbar\":{\"outlinewidth\":0,\"ticks\":\"\"},\"type\":\"contourcarpet\"}],\"heatmap\":[{\"colorbar\":{\"outlinewidth\":0,\"ticks\":\"\"},\"colorscale\":[[0.0,\"#0d0887\"],[0.1111111111111111,\"#46039f\"],[0.2222222222222222,\"#7201a8\"],[0.3333333333333333,\"#9c179e\"],[0.4444444444444444,\"#bd3786\"],[0.5555555555555556,\"#d8576b\"],[0.6666666666666666,\"#ed7953\"],[0.7777777777777778,\"#fb9f3a\"],[0.8888888888888888,\"#fdca26\"],[1.0,\"#f0f921\"]],\"type\":\"heatmap\"}],\"heatmapgl\":[{\"colorbar\":{\"outlinewidth\":0,\"ticks\":\"\"},\"colorscale\":[[0.0,\"#0d0887\"],[0.1111111111111111,\"#46039f\"],[0.2222222222222222,\"#7201a8\"],[0.3333333333333333,\"#9c179e\"],[0.4444444444444444,\"#bd3786\"],[0.5555555555555556,\"#d8576b\"],[0.6666666666666666,\"#ed7953\"],[0.7777777777777778,\"#fb9f3a\"],[0.8888888888888888,\"#fdca26\"],[1.0,\"#f0f921\"]],\"type\":\"heatmapgl\"}],\"histogram\":[{\"marker\":{\"pattern\":{\"fillmode\":\"overlay\",\"size\":10,\"solidity\":0.2}},\"type\":\"histogram\"}],\"histogram2d\":[{\"colorbar\":{\"outlinewidth\":0,\"ticks\":\"\"},\"colorscale\":[[0.0,\"#0d0887\"],[0.1111111111111111,\"#46039f\"],[0.2222222222222222,\"#7201a8\"],[0.3333333333333333,\"#9c179e\"],[0.4444444444444444,\"#bd3786\"],[0.5555555555555556,\"#d8576b\"],[0.6666666666666666,\"#ed7953\"],[0.7777777777777778,\"#fb9f3a\"],[0.8888888888888888,\"#fdca26\"],[1.0,\"#f0f921\"]],\"type\":\"histogram2d\"}],\"histogram2dcontour\":[{\"colorbar\":{\"outlinewidth\":0,\"ticks\":\"\"},\"colorscale\":[[0.0,\"#0d0887\"],[0.1111111111111111,\"#46039f\"],[0.2222222222222222,\"#7201a8\"],[0.3333333333333333,\"#9c179e\"],[0.4444444444444444,\"#bd3786\"],[0.5555555555555556,\"#d8576b\"],[0.6666666666666666,\"#ed7953\"],[0.7777777777777778,\"#fb9f3a\"],[0.8888888888888888,\"#fdca26\"],[1.0,\"#f0f921\"]],\"type\":\"histogram2dcontour\"}],\"mesh3d\":[{\"colorbar\":{\"outlinewidth\":0,\"ticks\":\"\"},\"type\":\"mesh3d\"}],\"parcoords\":[{\"line\":{\"colorbar\":{\"outlinewidth\":0,\"ticks\":\"\"}},\"type\":\"parcoords\"}],\"pie\":[{\"automargin\":true,\"type\":\"pie\"}],\"scatter\":[{\"marker\":{\"colorbar\":{\"outlinewidth\":0,\"ticks\":\"\"}},\"type\":\"scatter\"}],\"scatter3d\":[{\"line\":{\"colorbar\":{\"outlinewidth\":0,\"ticks\":\"\"}},\"marker\":{\"colorbar\":{\"outlinewidth\":0,\"ticks\":\"\"}},\"type\":\"scatter3d\"}],\"scattercarpet\":[{\"marker\":{\"colorbar\":{\"outlinewidth\":0,\"ticks\":\"\"}},\"type\":\"scattercarpet\"}],\"scattergeo\":[{\"marker\":{\"colorbar\":{\"outlinewidth\":0,\"ticks\":\"\"}},\"type\":\"scattergeo\"}],\"scattergl\":[{\"marker\":{\"colorbar\":{\"outlinewidth\":0,\"ticks\":\"\"}},\"type\":\"scattergl\"}],\"scattermapbox\":[{\"marker\":{\"colorbar\":{\"outlinewidth\":0,\"ticks\":\"\"}},\"type\":\"scattermapbox\"}],\"scatterpolar\":[{\"marker\":{\"colorbar\":{\"outlinewidth\":0,\"ticks\":\"\"}},\"type\":\"scatterpolar\"}],\"scatterpolargl\":[{\"marker\":{\"colorbar\":{\"outlinewidth\":0,\"ticks\":\"\"}},\"type\":\"scatterpolargl\"}],\"scatterternary\":[{\"marker\":{\"colorbar\":{\"outlinewidth\":0,\"ticks\":\"\"}},\"type\":\"scatterternary\"}],\"surface\":[{\"colorbar\":{\"outlinewidth\":0,\"ticks\":\"\"},\"colorscale\":[[0.0,\"#0d0887\"],[0.1111111111111111,\"#46039f\"],[0.2222222222222222,\"#7201a8\"],[0.3333333333333333,\"#9c179e\"],[0.4444444444444444,\"#bd3786\"],[0.5555555555555556,\"#d8576b\"],[0.6666666666666666,\"#ed7953\"],[0.7777777777777778,\"#fb9f3a\"],[0.8888888888888888,\"#fdca26\"],[1.0,\"#f0f921\"]],\"type\":\"surface\"}],\"table\":[{\"cells\":{\"fill\":{\"color\":\"#EBF0F8\"},\"line\":{\"color\":\"white\"}},\"header\":{\"fill\":{\"color\":\"#C8D4E3\"},\"line\":{\"color\":\"white\"}},\"type\":\"table\"}]},\"layout\":{\"annotationdefaults\":{\"arrowcolor\":\"#2a3f5f\",\"arrowhead\":0,\"arrowwidth\":1},\"autotypenumbers\":\"strict\",\"coloraxis\":{\"colorbar\":{\"outlinewidth\":0,\"ticks\":\"\"}},\"colorscale\":{\"diverging\":[[0,\"#8e0152\"],[0.1,\"#c51b7d\"],[0.2,\"#de77ae\"],[0.3,\"#f1b6da\"],[0.4,\"#fde0ef\"],[0.5,\"#f7f7f7\"],[0.6,\"#e6f5d0\"],[0.7,\"#b8e186\"],[0.8,\"#7fbc41\"],[0.9,\"#4d9221\"],[1,\"#276419\"]],\"sequential\":[[0.0,\"#0d0887\"],[0.1111111111111111,\"#46039f\"],[0.2222222222222222,\"#7201a8\"],[0.3333333333333333,\"#9c179e\"],[0.4444444444444444,\"#bd3786\"],[0.5555555555555556,\"#d8576b\"],[0.6666666666666666,\"#ed7953\"],[0.7777777777777778,\"#fb9f3a\"],[0.8888888888888888,\"#fdca26\"],[1.0,\"#f0f921\"]],\"sequentialminus\":[[0.0,\"#0d0887\"],[0.1111111111111111,\"#46039f\"],[0.2222222222222222,\"#7201a8\"],[0.3333333333333333,\"#9c179e\"],[0.4444444444444444,\"#bd3786\"],[0.5555555555555556,\"#d8576b\"],[0.6666666666666666,\"#ed7953\"],[0.7777777777777778,\"#fb9f3a\"],[0.8888888888888888,\"#fdca26\"],[1.0,\"#f0f921\"]]},\"colorway\":[\"#636efa\",\"#EF553B\",\"#00cc96\",\"#ab63fa\",\"#FFA15A\",\"#19d3f3\",\"#FF6692\",\"#B6E880\",\"#FF97FF\",\"#FECB52\"],\"font\":{\"color\":\"#2a3f5f\"},\"geo\":{\"bgcolor\":\"white\",\"lakecolor\":\"white\",\"landcolor\":\"#E5ECF6\",\"showlakes\":true,\"showland\":true,\"subunitcolor\":\"white\"},\"hoverlabel\":{\"align\":\"left\"},\"hovermode\":\"closest\",\"mapbox\":{\"style\":\"light\"},\"paper_bgcolor\":\"white\",\"plot_bgcolor\":\"#E5ECF6\",\"polar\":{\"angularaxis\":{\"gridcolor\":\"white\",\"linecolor\":\"white\",\"ticks\":\"\"},\"bgcolor\":\"#E5ECF6\",\"radialaxis\":{\"gridcolor\":\"white\",\"linecolor\":\"white\",\"ticks\":\"\"}},\"scene\":{\"xaxis\":{\"backgroundcolor\":\"#E5ECF6\",\"gridcolor\":\"white\",\"gridwidth\":2,\"linecolor\":\"white\",\"showbackground\":true,\"ticks\":\"\",\"zerolinecolor\":\"white\"},\"yaxis\":{\"backgroundcolor\":\"#E5ECF6\",\"gridcolor\":\"white\",\"gridwidth\":2,\"linecolor\":\"white\",\"showbackground\":true,\"ticks\":\"\",\"zerolinecolor\":\"white\"},\"zaxis\":{\"backgroundcolor\":\"#E5ECF6\",\"gridcolor\":\"white\",\"gridwidth\":2,\"linecolor\":\"white\",\"showbackground\":true,\"ticks\":\"\",\"zerolinecolor\":\"white\"}},\"shapedefaults\":{\"line\":{\"color\":\"#2a3f5f\"}},\"ternary\":{\"aaxis\":{\"gridcolor\":\"white\",\"linecolor\":\"white\",\"ticks\":\"\"},\"baxis\":{\"gridcolor\":\"white\",\"linecolor\":\"white\",\"ticks\":\"\"},\"bgcolor\":\"#E5ECF6\",\"caxis\":{\"gridcolor\":\"white\",\"linecolor\":\"white\",\"ticks\":\"\"}},\"title\":{\"x\":0.05},\"xaxis\":{\"automargin\":true,\"gridcolor\":\"white\",\"linecolor\":\"white\",\"ticks\":\"\",\"title\":{\"standoff\":15},\"zerolinecolor\":\"white\",\"zerolinewidth\":2},\"yaxis\":{\"automargin\":true,\"gridcolor\":\"white\",\"linecolor\":\"white\",\"ticks\":\"\",\"title\":{\"standoff\":15},\"zerolinecolor\":\"white\",\"zerolinewidth\":2}}},\"font\":{\"family\":\"Courier New, monospace\",\"size\":12,\"color\":\"RebeccaPurple\"},\"title\":{\"text\":\"Tempos of Virtual Self Tracks\"},\"xaxis\":{\"title\":{\"text\":\"Track IDs\"}},\"yaxis\":{\"title\":{\"text\":\"Loudness (LUFs)\"}}},                        {\"responsive\": true}                    ).then(function(){\n",
       "                            \n",
       "var gd = document.getElementById('dd2e741c-c7fb-44ec-8644-1681dad1d6af');\n",
       "var x = new MutationObserver(function (mutations, observer) {{\n",
       "        var display = window.getComputedStyle(gd).display;\n",
       "        if (!display || display === 'none') {{\n",
       "            console.log([gd, 'removed!']);\n",
       "            Plotly.purge(gd);\n",
       "            observer.disconnect();\n",
       "        }}\n",
       "}});\n",
       "\n",
       "// Listen for the removal of the full notebook cells\n",
       "var notebookContainer = gd.closest('#notebook-container');\n",
       "if (notebookContainer) {{\n",
       "    x.observe(notebookContainer, {childList: true});\n",
       "}}\n",
       "\n",
       "// Listen for the clearing of the current output cell\n",
       "var outputEl = gd.closest('.output');\n",
       "if (outputEl) {{\n",
       "    x.observe(outputEl, {childList: true});\n",
       "}}\n",
       "\n",
       "                        })                };                });            </script>        </div>"
      ]
     },
     "metadata": {},
     "output_type": "display_data"
    }
   ],
   "source": [
    "fig = go.Figure()\n",
    "fig.add_trace(go.Bar(x=track_names,\n",
    "            y=track_loudness))\n",
    "fig.update_layout(\n",
    "    title=\"Loudness of Virtual Self Tracks\",\n",
    "    xaxis_title=\"Track IDs\",\n",
    "    yaxis_title=\"Loudness (LUFs)\",\n",
    "    font=dict(\n",
    "        family=\"Courier New, monospace\",\n",
    "        size=12,\n",
    "        color=\"RebeccaPurple\"\n",
    "    )\n",
    ")"
   ]
  },
  {
   "cell_type": "code",
   "execution_count": 27,
   "id": "cc4aa710-2647-4934-a404-ef36599d9c05",
   "metadata": {},
   "outputs": [
    {
     "data": {
      "application/vnd.plotly.v1+json": {
       "config": {
        "plotlyServerURL": "https://plot.ly"
       },
       "data": [
        {
         "hovertemplate": "x=%{x}<br>y=%{y}<br>text=%{text}<extra></extra>",
         "legendgroup": "",
         "marker": {
          "color": "#636efa",
          "symbol": "circle"
         },
         "mode": "markers+text",
         "name": "",
         "orientation": "v",
         "showlegend": false,
         "text": [
          "Ghost Voices",
          "ANGEL VOICES",
          "Particle Arts",
          "EON BREAK",
          "a.i.ngel (Become God)",
          "Key",
          "Ghost Voices - Radio Edit",
          "Ghost Voices - Raito Remix",
          "Ghost Voices - Raito Old School Remix",
          "Ghost Voices (Mixed) - Raito Remix"
         ],
         "type": "scatter",
         "x": [
          119.96,
          166.017,
          174.097,
          178.864,
          174.125,
          118.005,
          119.924,
          128,
          126.022,
          129.948
         ],
         "xaxis": "x",
         "y": [
          11,
          11,
          11,
          9,
          6,
          1,
          7,
          1,
          7,
          4
         ],
         "yaxis": "y"
        }
       ],
       "layout": {
        "autosize": true,
        "legend": {
         "tracegroupgap": 0
        },
        "margin": {
         "t": 60
        },
        "template": {
         "data": {
          "bar": [
           {
            "error_x": {
             "color": "#2a3f5f"
            },
            "error_y": {
             "color": "#2a3f5f"
            },
            "marker": {
             "line": {
              "color": "#E5ECF6",
              "width": 0.5
             },
             "pattern": {
              "fillmode": "overlay",
              "size": 10,
              "solidity": 0.2
             }
            },
            "type": "bar"
           }
          ],
          "barpolar": [
           {
            "marker": {
             "line": {
              "color": "#E5ECF6",
              "width": 0.5
             },
             "pattern": {
              "fillmode": "overlay",
              "size": 10,
              "solidity": 0.2
             }
            },
            "type": "barpolar"
           }
          ],
          "carpet": [
           {
            "aaxis": {
             "endlinecolor": "#2a3f5f",
             "gridcolor": "white",
             "linecolor": "white",
             "minorgridcolor": "white",
             "startlinecolor": "#2a3f5f"
            },
            "baxis": {
             "endlinecolor": "#2a3f5f",
             "gridcolor": "white",
             "linecolor": "white",
             "minorgridcolor": "white",
             "startlinecolor": "#2a3f5f"
            },
            "type": "carpet"
           }
          ],
          "choropleth": [
           {
            "colorbar": {
             "outlinewidth": 0,
             "ticks": ""
            },
            "type": "choropleth"
           }
          ],
          "contour": [
           {
            "colorbar": {
             "outlinewidth": 0,
             "ticks": ""
            },
            "colorscale": [
             [
              0,
              "#0d0887"
             ],
             [
              0.1111111111111111,
              "#46039f"
             ],
             [
              0.2222222222222222,
              "#7201a8"
             ],
             [
              0.3333333333333333,
              "#9c179e"
             ],
             [
              0.4444444444444444,
              "#bd3786"
             ],
             [
              0.5555555555555556,
              "#d8576b"
             ],
             [
              0.6666666666666666,
              "#ed7953"
             ],
             [
              0.7777777777777778,
              "#fb9f3a"
             ],
             [
              0.8888888888888888,
              "#fdca26"
             ],
             [
              1,
              "#f0f921"
             ]
            ],
            "type": "contour"
           }
          ],
          "contourcarpet": [
           {
            "colorbar": {
             "outlinewidth": 0,
             "ticks": ""
            },
            "type": "contourcarpet"
           }
          ],
          "heatmap": [
           {
            "colorbar": {
             "outlinewidth": 0,
             "ticks": ""
            },
            "colorscale": [
             [
              0,
              "#0d0887"
             ],
             [
              0.1111111111111111,
              "#46039f"
             ],
             [
              0.2222222222222222,
              "#7201a8"
             ],
             [
              0.3333333333333333,
              "#9c179e"
             ],
             [
              0.4444444444444444,
              "#bd3786"
             ],
             [
              0.5555555555555556,
              "#d8576b"
             ],
             [
              0.6666666666666666,
              "#ed7953"
             ],
             [
              0.7777777777777778,
              "#fb9f3a"
             ],
             [
              0.8888888888888888,
              "#fdca26"
             ],
             [
              1,
              "#f0f921"
             ]
            ],
            "type": "heatmap"
           }
          ],
          "heatmapgl": [
           {
            "colorbar": {
             "outlinewidth": 0,
             "ticks": ""
            },
            "colorscale": [
             [
              0,
              "#0d0887"
             ],
             [
              0.1111111111111111,
              "#46039f"
             ],
             [
              0.2222222222222222,
              "#7201a8"
             ],
             [
              0.3333333333333333,
              "#9c179e"
             ],
             [
              0.4444444444444444,
              "#bd3786"
             ],
             [
              0.5555555555555556,
              "#d8576b"
             ],
             [
              0.6666666666666666,
              "#ed7953"
             ],
             [
              0.7777777777777778,
              "#fb9f3a"
             ],
             [
              0.8888888888888888,
              "#fdca26"
             ],
             [
              1,
              "#f0f921"
             ]
            ],
            "type": "heatmapgl"
           }
          ],
          "histogram": [
           {
            "marker": {
             "pattern": {
              "fillmode": "overlay",
              "size": 10,
              "solidity": 0.2
             }
            },
            "type": "histogram"
           }
          ],
          "histogram2d": [
           {
            "colorbar": {
             "outlinewidth": 0,
             "ticks": ""
            },
            "colorscale": [
             [
              0,
              "#0d0887"
             ],
             [
              0.1111111111111111,
              "#46039f"
             ],
             [
              0.2222222222222222,
              "#7201a8"
             ],
             [
              0.3333333333333333,
              "#9c179e"
             ],
             [
              0.4444444444444444,
              "#bd3786"
             ],
             [
              0.5555555555555556,
              "#d8576b"
             ],
             [
              0.6666666666666666,
              "#ed7953"
             ],
             [
              0.7777777777777778,
              "#fb9f3a"
             ],
             [
              0.8888888888888888,
              "#fdca26"
             ],
             [
              1,
              "#f0f921"
             ]
            ],
            "type": "histogram2d"
           }
          ],
          "histogram2dcontour": [
           {
            "colorbar": {
             "outlinewidth": 0,
             "ticks": ""
            },
            "colorscale": [
             [
              0,
              "#0d0887"
             ],
             [
              0.1111111111111111,
              "#46039f"
             ],
             [
              0.2222222222222222,
              "#7201a8"
             ],
             [
              0.3333333333333333,
              "#9c179e"
             ],
             [
              0.4444444444444444,
              "#bd3786"
             ],
             [
              0.5555555555555556,
              "#d8576b"
             ],
             [
              0.6666666666666666,
              "#ed7953"
             ],
             [
              0.7777777777777778,
              "#fb9f3a"
             ],
             [
              0.8888888888888888,
              "#fdca26"
             ],
             [
              1,
              "#f0f921"
             ]
            ],
            "type": "histogram2dcontour"
           }
          ],
          "mesh3d": [
           {
            "colorbar": {
             "outlinewidth": 0,
             "ticks": ""
            },
            "type": "mesh3d"
           }
          ],
          "parcoords": [
           {
            "line": {
             "colorbar": {
              "outlinewidth": 0,
              "ticks": ""
             }
            },
            "type": "parcoords"
           }
          ],
          "pie": [
           {
            "automargin": true,
            "type": "pie"
           }
          ],
          "scatter": [
           {
            "marker": {
             "colorbar": {
              "outlinewidth": 0,
              "ticks": ""
             }
            },
            "type": "scatter"
           }
          ],
          "scatter3d": [
           {
            "line": {
             "colorbar": {
              "outlinewidth": 0,
              "ticks": ""
             }
            },
            "marker": {
             "colorbar": {
              "outlinewidth": 0,
              "ticks": ""
             }
            },
            "type": "scatter3d"
           }
          ],
          "scattercarpet": [
           {
            "marker": {
             "colorbar": {
              "outlinewidth": 0,
              "ticks": ""
             }
            },
            "type": "scattercarpet"
           }
          ],
          "scattergeo": [
           {
            "marker": {
             "colorbar": {
              "outlinewidth": 0,
              "ticks": ""
             }
            },
            "type": "scattergeo"
           }
          ],
          "scattergl": [
           {
            "marker": {
             "colorbar": {
              "outlinewidth": 0,
              "ticks": ""
             }
            },
            "type": "scattergl"
           }
          ],
          "scattermapbox": [
           {
            "marker": {
             "colorbar": {
              "outlinewidth": 0,
              "ticks": ""
             }
            },
            "type": "scattermapbox"
           }
          ],
          "scatterpolar": [
           {
            "marker": {
             "colorbar": {
              "outlinewidth": 0,
              "ticks": ""
             }
            },
            "type": "scatterpolar"
           }
          ],
          "scatterpolargl": [
           {
            "marker": {
             "colorbar": {
              "outlinewidth": 0,
              "ticks": ""
             }
            },
            "type": "scatterpolargl"
           }
          ],
          "scatterternary": [
           {
            "marker": {
             "colorbar": {
              "outlinewidth": 0,
              "ticks": ""
             }
            },
            "type": "scatterternary"
           }
          ],
          "surface": [
           {
            "colorbar": {
             "outlinewidth": 0,
             "ticks": ""
            },
            "colorscale": [
             [
              0,
              "#0d0887"
             ],
             [
              0.1111111111111111,
              "#46039f"
             ],
             [
              0.2222222222222222,
              "#7201a8"
             ],
             [
              0.3333333333333333,
              "#9c179e"
             ],
             [
              0.4444444444444444,
              "#bd3786"
             ],
             [
              0.5555555555555556,
              "#d8576b"
             ],
             [
              0.6666666666666666,
              "#ed7953"
             ],
             [
              0.7777777777777778,
              "#fb9f3a"
             ],
             [
              0.8888888888888888,
              "#fdca26"
             ],
             [
              1,
              "#f0f921"
             ]
            ],
            "type": "surface"
           }
          ],
          "table": [
           {
            "cells": {
             "fill": {
              "color": "#EBF0F8"
             },
             "line": {
              "color": "white"
             }
            },
            "header": {
             "fill": {
              "color": "#C8D4E3"
             },
             "line": {
              "color": "white"
             }
            },
            "type": "table"
           }
          ]
         },
         "layout": {
          "annotationdefaults": {
           "arrowcolor": "#2a3f5f",
           "arrowhead": 0,
           "arrowwidth": 1
          },
          "autotypenumbers": "strict",
          "coloraxis": {
           "colorbar": {
            "outlinewidth": 0,
            "ticks": ""
           }
          },
          "colorscale": {
           "diverging": [
            [
             0,
             "#8e0152"
            ],
            [
             0.1,
             "#c51b7d"
            ],
            [
             0.2,
             "#de77ae"
            ],
            [
             0.3,
             "#f1b6da"
            ],
            [
             0.4,
             "#fde0ef"
            ],
            [
             0.5,
             "#f7f7f7"
            ],
            [
             0.6,
             "#e6f5d0"
            ],
            [
             0.7,
             "#b8e186"
            ],
            [
             0.8,
             "#7fbc41"
            ],
            [
             0.9,
             "#4d9221"
            ],
            [
             1,
             "#276419"
            ]
           ],
           "sequential": [
            [
             0,
             "#0d0887"
            ],
            [
             0.1111111111111111,
             "#46039f"
            ],
            [
             0.2222222222222222,
             "#7201a8"
            ],
            [
             0.3333333333333333,
             "#9c179e"
            ],
            [
             0.4444444444444444,
             "#bd3786"
            ],
            [
             0.5555555555555556,
             "#d8576b"
            ],
            [
             0.6666666666666666,
             "#ed7953"
            ],
            [
             0.7777777777777778,
             "#fb9f3a"
            ],
            [
             0.8888888888888888,
             "#fdca26"
            ],
            [
             1,
             "#f0f921"
            ]
           ],
           "sequentialminus": [
            [
             0,
             "#0d0887"
            ],
            [
             0.1111111111111111,
             "#46039f"
            ],
            [
             0.2222222222222222,
             "#7201a8"
            ],
            [
             0.3333333333333333,
             "#9c179e"
            ],
            [
             0.4444444444444444,
             "#bd3786"
            ],
            [
             0.5555555555555556,
             "#d8576b"
            ],
            [
             0.6666666666666666,
             "#ed7953"
            ],
            [
             0.7777777777777778,
             "#fb9f3a"
            ],
            [
             0.8888888888888888,
             "#fdca26"
            ],
            [
             1,
             "#f0f921"
            ]
           ]
          },
          "colorway": [
           "#636efa",
           "#EF553B",
           "#00cc96",
           "#ab63fa",
           "#FFA15A",
           "#19d3f3",
           "#FF6692",
           "#B6E880",
           "#FF97FF",
           "#FECB52"
          ],
          "font": {
           "color": "#2a3f5f"
          },
          "geo": {
           "bgcolor": "white",
           "lakecolor": "white",
           "landcolor": "#E5ECF6",
           "showlakes": true,
           "showland": true,
           "subunitcolor": "white"
          },
          "hoverlabel": {
           "align": "left"
          },
          "hovermode": "closest",
          "mapbox": {
           "style": "light"
          },
          "paper_bgcolor": "white",
          "plot_bgcolor": "#E5ECF6",
          "polar": {
           "angularaxis": {
            "gridcolor": "white",
            "linecolor": "white",
            "ticks": ""
           },
           "bgcolor": "#E5ECF6",
           "radialaxis": {
            "gridcolor": "white",
            "linecolor": "white",
            "ticks": ""
           }
          },
          "scene": {
           "xaxis": {
            "backgroundcolor": "#E5ECF6",
            "gridcolor": "white",
            "gridwidth": 2,
            "linecolor": "white",
            "showbackground": true,
            "ticks": "",
            "zerolinecolor": "white"
           },
           "yaxis": {
            "backgroundcolor": "#E5ECF6",
            "gridcolor": "white",
            "gridwidth": 2,
            "linecolor": "white",
            "showbackground": true,
            "ticks": "",
            "zerolinecolor": "white"
           },
           "zaxis": {
            "backgroundcolor": "#E5ECF6",
            "gridcolor": "white",
            "gridwidth": 2,
            "linecolor": "white",
            "showbackground": true,
            "ticks": "",
            "zerolinecolor": "white"
           }
          },
          "shapedefaults": {
           "line": {
            "color": "#2a3f5f"
           }
          },
          "ternary": {
           "aaxis": {
            "gridcolor": "white",
            "linecolor": "white",
            "ticks": ""
           },
           "baxis": {
            "gridcolor": "white",
            "linecolor": "white",
            "ticks": ""
           },
           "bgcolor": "#E5ECF6",
           "caxis": {
            "gridcolor": "white",
            "linecolor": "white",
            "ticks": ""
           }
          },
          "title": {
           "x": 0.05
          },
          "xaxis": {
           "automargin": true,
           "gridcolor": "white",
           "linecolor": "white",
           "ticks": "",
           "title": {
            "standoff": 15
           },
           "zerolinecolor": "white",
           "zerolinewidth": 2
          },
          "yaxis": {
           "automargin": true,
           "gridcolor": "white",
           "linecolor": "white",
           "ticks": "",
           "title": {
            "standoff": 15
           },
           "zerolinecolor": "white",
           "zerolinewidth": 2
          }
         }
        },
        "xaxis": {
         "anchor": "y",
         "autorange": true,
         "domain": [
          0,
          1
         ],
         "range": [
          114.28228563729452,
          182.58671436270546
         ],
         "title": {
          "text": "x"
         },
         "type": "linear"
        },
        "yaxis": {
         "anchor": "x",
         "autorange": true,
         "domain": [
          0,
          1
         ],
         "range": [
          0.22572178477690286,
          11.774278215223097
         ],
         "title": {
          "text": "y"
         },
         "type": "linear"
        }
       }
      },
      "image/png": "[encoded data removed]",
      "text/html": [
       "<div>                            <div id=\"af6d0f54-93ff-4736-9649-9da4a28c9b6c\" class=\"plotly-graph-div\" style=\"height:525px; width:100%;\"></div>            <script type=\"text/javascript\">                require([\"plotly\"], function(Plotly) {                    window.PLOTLYENV=window.PLOTLYENV || {};                                    if (document.getElementById(\"af6d0f54-93ff-4736-9649-9da4a28c9b6c\")) {                    Plotly.newPlot(                        \"af6d0f54-93ff-4736-9649-9da4a28c9b6c\",                        [{\"hovertemplate\":\"x=%{x}<br>y=%{y}<br>text=%{text}<extra></extra>\",\"legendgroup\":\"\",\"marker\":{\"color\":\"#636efa\",\"symbol\":\"circle\"},\"mode\":\"markers+text\",\"name\":\"\",\"orientation\":\"v\",\"showlegend\":false,\"text\":[\"Ghost Voices\",\"ANGEL VOICES\",\"Particle Arts\",\"EON BREAK\",\"a.i.ngel (Become God)\",\"Key\",\"Ghost Voices - Radio Edit\",\"Ghost Voices - Raito Remix\",\"Ghost Voices - Raito Old School Remix\",\"Ghost Voices (Mixed) - Raito Remix\"],\"x\":[119.96,166.017,174.097,178.864,174.125,118.005,119.924,128.0,126.022,129.948],\"xaxis\":\"x\",\"y\":[11,11,11,9,6,1,7,1,7,4],\"yaxis\":\"y\",\"type\":\"scatter\"}],                        {\"template\":{\"data\":{\"bar\":[{\"error_x\":{\"color\":\"#2a3f5f\"},\"error_y\":{\"color\":\"#2a3f5f\"},\"marker\":{\"line\":{\"color\":\"#E5ECF6\",\"width\":0.5},\"pattern\":{\"fillmode\":\"overlay\",\"size\":10,\"solidity\":0.2}},\"type\":\"bar\"}],\"barpolar\":[{\"marker\":{\"line\":{\"color\":\"#E5ECF6\",\"width\":0.5},\"pattern\":{\"fillmode\":\"overlay\",\"size\":10,\"solidity\":0.2}},\"type\":\"barpolar\"}],\"carpet\":[{\"aaxis\":{\"endlinecolor\":\"#2a3f5f\",\"gridcolor\":\"white\",\"linecolor\":\"white\",\"minorgridcolor\":\"white\",\"startlinecolor\":\"#2a3f5f\"},\"baxis\":{\"endlinecolor\":\"#2a3f5f\",\"gridcolor\":\"white\",\"linecolor\":\"white\",\"minorgridcolor\":\"white\",\"startlinecolor\":\"#2a3f5f\"},\"type\":\"carpet\"}],\"choropleth\":[{\"colorbar\":{\"outlinewidth\":0,\"ticks\":\"\"},\"type\":\"choropleth\"}],\"contour\":[{\"colorbar\":{\"outlinewidth\":0,\"ticks\":\"\"},\"colorscale\":[[0.0,\"#0d0887\"],[0.1111111111111111,\"#46039f\"],[0.2222222222222222,\"#7201a8\"],[0.3333333333333333,\"#9c179e\"],[0.4444444444444444,\"#bd3786\"],[0.5555555555555556,\"#d8576b\"],[0.6666666666666666,\"#ed7953\"],[0.7777777777777778,\"#fb9f3a\"],[0.8888888888888888,\"#fdca26\"],[1.0,\"#f0f921\"]],\"type\":\"contour\"}],\"contourcarpet\":[{\"colorbar\":{\"outlinewidth\":0,\"ticks\":\"\"},\"type\":\"contourcarpet\"}],\"heatmap\":[{\"colorbar\":{\"outlinewidth\":0,\"ticks\":\"\"},\"colorscale\":[[0.0,\"#0d0887\"],[0.1111111111111111,\"#46039f\"],[0.2222222222222222,\"#7201a8\"],[0.3333333333333333,\"#9c179e\"],[0.4444444444444444,\"#bd3786\"],[0.5555555555555556,\"#d8576b\"],[0.6666666666666666,\"#ed7953\"],[0.7777777777777778,\"#fb9f3a\"],[0.8888888888888888,\"#fdca26\"],[1.0,\"#f0f921\"]],\"type\":\"heatmap\"}],\"heatmapgl\":[{\"colorbar\":{\"outlinewidth\":0,\"ticks\":\"\"},\"colorscale\":[[0.0,\"#0d0887\"],[0.1111111111111111,\"#46039f\"],[0.2222222222222222,\"#7201a8\"],[0.3333333333333333,\"#9c179e\"],[0.4444444444444444,\"#bd3786\"],[0.5555555555555556,\"#d8576b\"],[0.6666666666666666,\"#ed7953\"],[0.7777777777777778,\"#fb9f3a\"],[0.8888888888888888,\"#fdca26\"],[1.0,\"#f0f921\"]],\"type\":\"heatmapgl\"}],\"histogram\":[{\"marker\":{\"pattern\":{\"fillmode\":\"overlay\",\"size\":10,\"solidity\":0.2}},\"type\":\"histogram\"}],\"histogram2d\":[{\"colorbar\":{\"outlinewidth\":0,\"ticks\":\"\"},\"colorscale\":[[0.0,\"#0d0887\"],[0.1111111111111111,\"#46039f\"],[0.2222222222222222,\"#7201a8\"],[0.3333333333333333,\"#9c179e\"],[0.4444444444444444,\"#bd3786\"],[0.5555555555555556,\"#d8576b\"],[0.6666666666666666,\"#ed7953\"],[0.7777777777777778,\"#fb9f3a\"],[0.8888888888888888,\"#fdca26\"],[1.0,\"#f0f921\"]],\"type\":\"histogram2d\"}],\"histogram2dcontour\":[{\"colorbar\":{\"outlinewidth\":0,\"ticks\":\"\"},\"colorscale\":[[0.0,\"#0d0887\"],[0.1111111111111111,\"#46039f\"],[0.2222222222222222,\"#7201a8\"],[0.3333333333333333,\"#9c179e\"],[0.4444444444444444,\"#bd3786\"],[0.5555555555555556,\"#d8576b\"],[0.6666666666666666,\"#ed7953\"],[0.7777777777777778,\"#fb9f3a\"],[0.8888888888888888,\"#fdca26\"],[1.0,\"#f0f921\"]],\"type\":\"histogram2dcontour\"}],\"mesh3d\":[{\"colorbar\":{\"outlinewidth\":0,\"ticks\":\"\"},\"type\":\"mesh3d\"}],\"parcoords\":[{\"line\":{\"colorbar\":{\"outlinewidth\":0,\"ticks\":\"\"}},\"type\":\"parcoords\"}],\"pie\":[{\"automargin\":true,\"type\":\"pie\"}],\"scatter\":[{\"marker\":{\"colorbar\":{\"outlinewidth\":0,\"ticks\":\"\"}},\"type\":\"scatter\"}],\"scatter3d\":[{\"line\":{\"colorbar\":{\"outlinewidth\":0,\"ticks\":\"\"}},\"marker\":{\"colorbar\":{\"outlinewidth\":0,\"ticks\":\"\"}},\"type\":\"scatter3d\"}],\"scattercarpet\":[{\"marker\":{\"colorbar\":{\"outlinewidth\":0,\"ticks\":\"\"}},\"type\":\"scattercarpet\"}],\"scattergeo\":[{\"marker\":{\"colorbar\":{\"outlinewidth\":0,\"ticks\":\"\"}},\"type\":\"scattergeo\"}],\"scattergl\":[{\"marker\":{\"colorbar\":{\"outlinewidth\":0,\"ticks\":\"\"}},\"type\":\"scattergl\"}],\"scattermapbox\":[{\"marker\":{\"colorbar\":{\"outlinewidth\":0,\"ticks\":\"\"}},\"type\":\"scattermapbox\"}],\"scatterpolar\":[{\"marker\":{\"colorbar\":{\"outlinewidth\":0,\"ticks\":\"\"}},\"type\":\"scatterpolar\"}],\"scatterpolargl\":[{\"marker\":{\"colorbar\":{\"outlinewidth\":0,\"ticks\":\"\"}},\"type\":\"scatterpolargl\"}],\"scatterternary\":[{\"marker\":{\"colorbar\":{\"outlinewidth\":0,\"ticks\":\"\"}},\"type\":\"scatterternary\"}],\"surface\":[{\"colorbar\":{\"outlinewidth\":0,\"ticks\":\"\"},\"colorscale\":[[0.0,\"#0d0887\"],[0.1111111111111111,\"#46039f\"],[0.2222222222222222,\"#7201a8\"],[0.3333333333333333,\"#9c179e\"],[0.4444444444444444,\"#bd3786\"],[0.5555555555555556,\"#d8576b\"],[0.6666666666666666,\"#ed7953\"],[0.7777777777777778,\"#fb9f3a\"],[0.8888888888888888,\"#fdca26\"],[1.0,\"#f0f921\"]],\"type\":\"surface\"}],\"table\":[{\"cells\":{\"fill\":{\"color\":\"#EBF0F8\"},\"line\":{\"color\":\"white\"}},\"header\":{\"fill\":{\"color\":\"#C8D4E3\"},\"line\":{\"color\":\"white\"}},\"type\":\"table\"}]},\"layout\":{\"annotationdefaults\":{\"arrowcolor\":\"#2a3f5f\",\"arrowhead\":0,\"arrowwidth\":1},\"autotypenumbers\":\"strict\",\"coloraxis\":{\"colorbar\":{\"outlinewidth\":0,\"ticks\":\"\"}},\"colorscale\":{\"diverging\":[[0,\"#8e0152\"],[0.1,\"#c51b7d\"],[0.2,\"#de77ae\"],[0.3,\"#f1b6da\"],[0.4,\"#fde0ef\"],[0.5,\"#f7f7f7\"],[0.6,\"#e6f5d0\"],[0.7,\"#b8e186\"],[0.8,\"#7fbc41\"],[0.9,\"#4d9221\"],[1,\"#276419\"]],\"sequential\":[[0.0,\"#0d0887\"],[0.1111111111111111,\"#46039f\"],[0.2222222222222222,\"#7201a8\"],[0.3333333333333333,\"#9c179e\"],[0.4444444444444444,\"#bd3786\"],[0.5555555555555556,\"#d8576b\"],[0.6666666666666666,\"#ed7953\"],[0.7777777777777778,\"#fb9f3a\"],[0.8888888888888888,\"#fdca26\"],[1.0,\"#f0f921\"]],\"sequentialminus\":[[0.0,\"#0d0887\"],[0.1111111111111111,\"#46039f\"],[0.2222222222222222,\"#7201a8\"],[0.3333333333333333,\"#9c179e\"],[0.4444444444444444,\"#bd3786\"],[0.5555555555555556,\"#d8576b\"],[0.6666666666666666,\"#ed7953\"],[0.7777777777777778,\"#fb9f3a\"],[0.8888888888888888,\"#fdca26\"],[1.0,\"#f0f921\"]]},\"colorway\":[\"#636efa\",\"#EF553B\",\"#00cc96\",\"#ab63fa\",\"#FFA15A\",\"#19d3f3\",\"#FF6692\",\"#B6E880\",\"#FF97FF\",\"#FECB52\"],\"font\":{\"color\":\"#2a3f5f\"},\"geo\":{\"bgcolor\":\"white\",\"lakecolor\":\"white\",\"landcolor\":\"#E5ECF6\",\"showlakes\":true,\"showland\":true,\"subunitcolor\":\"white\"},\"hoverlabel\":{\"align\":\"left\"},\"hovermode\":\"closest\",\"mapbox\":{\"style\":\"light\"},\"paper_bgcolor\":\"white\",\"plot_bgcolor\":\"#E5ECF6\",\"polar\":{\"angularaxis\":{\"gridcolor\":\"white\",\"linecolor\":\"white\",\"ticks\":\"\"},\"bgcolor\":\"#E5ECF6\",\"radialaxis\":{\"gridcolor\":\"white\",\"linecolor\":\"white\",\"ticks\":\"\"}},\"scene\":{\"xaxis\":{\"backgroundcolor\":\"#E5ECF6\",\"gridcolor\":\"white\",\"gridwidth\":2,\"linecolor\":\"white\",\"showbackground\":true,\"ticks\":\"\",\"zerolinecolor\":\"white\"},\"yaxis\":{\"backgroundcolor\":\"#E5ECF6\",\"gridcolor\":\"white\",\"gridwidth\":2,\"linecolor\":\"white\",\"showbackground\":true,\"ticks\":\"\",\"zerolinecolor\":\"white\"},\"zaxis\":{\"backgroundcolor\":\"#E5ECF6\",\"gridcolor\":\"white\",\"gridwidth\":2,\"linecolor\":\"white\",\"showbackground\":true,\"ticks\":\"\",\"zerolinecolor\":\"white\"}},\"shapedefaults\":{\"line\":{\"color\":\"#2a3f5f\"}},\"ternary\":{\"aaxis\":{\"gridcolor\":\"white\",\"linecolor\":\"white\",\"ticks\":\"\"},\"baxis\":{\"gridcolor\":\"white\",\"linecolor\":\"white\",\"ticks\":\"\"},\"bgcolor\":\"#E5ECF6\",\"caxis\":{\"gridcolor\":\"white\",\"linecolor\":\"white\",\"ticks\":\"\"}},\"title\":{\"x\":0.05},\"xaxis\":{\"automargin\":true,\"gridcolor\":\"white\",\"linecolor\":\"white\",\"ticks\":\"\",\"title\":{\"standoff\":15},\"zerolinecolor\":\"white\",\"zerolinewidth\":2},\"yaxis\":{\"automargin\":true,\"gridcolor\":\"white\",\"linecolor\":\"white\",\"ticks\":\"\",\"title\":{\"standoff\":15},\"zerolinecolor\":\"white\",\"zerolinewidth\":2}}},\"xaxis\":{\"anchor\":\"y\",\"domain\":[0.0,1.0],\"title\":{\"text\":\"x\"}},\"yaxis\":{\"anchor\":\"x\",\"domain\":[0.0,1.0],\"title\":{\"text\":\"y\"}},\"legend\":{\"tracegroupgap\":0},\"margin\":{\"t\":60}},                        {\"responsive\": true}                    ).then(function(){\n",
       "                            \n",
       "var gd = document.getElementById('af6d0f54-93ff-4736-9649-9da4a28c9b6c');\n",
       "var x = new MutationObserver(function (mutations, observer) {{\n",
       "        var display = window.getComputedStyle(gd).display;\n",
       "        if (!display || display === 'none') {{\n",
       "            console.log([gd, 'removed!']);\n",
       "            Plotly.purge(gd);\n",
       "            observer.disconnect();\n",
       "        }}\n",
       "}});\n",
       "\n",
       "// Listen for the removal of the full notebook cells\n",
       "var notebookContainer = gd.closest('#notebook-container');\n",
       "if (notebookContainer) {{\n",
       "    x.observe(notebookContainer, {childList: true});\n",
       "}}\n",
       "\n",
       "// Listen for the clearing of the current output cell\n",
       "var outputEl = gd.closest('.output');\n",
       "if (outputEl) {{\n",
       "    x.observe(outputEl, {childList: true});\n",
       "}}\n",
       "\n",
       "                        })                };                });            </script>        </div>"
      ]
     },
     "metadata": {},
     "output_type": "display_data"
    }
   ],
   "source": [
    "import plotly.express as px\n",
    "fig = px.scatter(x=track_tempos, y=track_key, text=track_names)\n",
    "fig.show()"
   ]
  },
  {
   "cell_type": "code",
   "execution_count": 28,
   "id": "6feb43ec-9c9d-4039-b2be-0585df043b34",
   "metadata": {},
   "outputs": [
    {
     "data": {
      "text/plain": [
       "{'tracks': [{'album': {'album_type': 'single',\n",
       "    'artists': [{'external_urls': {'spotify': 'https://open.spotify.com/artist/0F52YLV7uWqaJfMMDgG737'},\n",
       "      'href': 'https://api.spotify.com/v1/artists/0F52YLV7uWqaJfMMDgG737',\n",
       "      'id': '0F52YLV7uWqaJfMMDgG737',\n",
       "      'name': 'Virtual Self',\n",
       "      'type': 'artist',\n",
       "      'uri': 'spotify:artist:0F52YLV7uWqaJfMMDgG737'}],\n",
       "    'external_urls': {'spotify': 'https://open.spotify.com/album/7I3PH61aLVNVj4EVvU16WG'},\n",
       "    'href': 'https://api.spotify.com/v1/albums/7I3PH61aLVNVj4EVvU16WG',\n",
       "    'id': '7I3PH61aLVNVj4EVvU16WG',\n",
       "    'images': [{'height': 640,\n",
       "      'url': 'https://i.scdn.co/image/ab67616d0000b2734ba2d15b6e7f470bfd3e424e',\n",
       "      'width': 640},\n",
       "     {'height': 300,\n",
       "      'url': 'https://i.scdn.co/image/ab67616d00001e024ba2d15b6e7f470bfd3e424e',\n",
       "      'width': 300},\n",
       "     {'height': 64,\n",
       "      'url': 'https://i.scdn.co/image/ab67616d000048514ba2d15b6e7f470bfd3e424e',\n",
       "      'width': 64}],\n",
       "    'name': 'Virtual Self',\n",
       "    'release_date': '2017-11-29',\n",
       "    'release_date_precision': 'day',\n",
       "    'total_tracks': 5,\n",
       "    'type': 'album',\n",
       "    'uri': 'spotify:album:7I3PH61aLVNVj4EVvU16WG'},\n",
       "   'artists': [{'external_urls': {'spotify': 'https://open.spotify.com/artist/0F52YLV7uWqaJfMMDgG737'},\n",
       "     'href': 'https://api.spotify.com/v1/artists/0F52YLV7uWqaJfMMDgG737',\n",
       "     'id': '0F52YLV7uWqaJfMMDgG737',\n",
       "     'name': 'Virtual Self',\n",
       "     'type': 'artist',\n",
       "     'uri': 'spotify:artist:0F52YLV7uWqaJfMMDgG737'}],\n",
       "   'disc_number': 1,\n",
       "   'duration_ms': 266365,\n",
       "   'explicit': False,\n",
       "   'external_ids': {'isrc': 'QMUY41700232'},\n",
       "   'external_urls': {'spotify': 'https://open.spotify.com/track/7ipGvvE90ROUNFw7ZBXBTO'},\n",
       "   'href': 'https://api.spotify.com/v1/tracks/7ipGvvE90ROUNFw7ZBXBTO',\n",
       "   'id': '7ipGvvE90ROUNFw7ZBXBTO',\n",
       "   'is_local': False,\n",
       "   'is_playable': True,\n",
       "   'name': 'Ghost Voices',\n",
       "   'popularity': 58,\n",
       "   'preview_url': 'https://p.scdn.co/mp3-preview/da7d39962c3b56dd96479edd541f6c3710b92b12?cid=ccd3e124a27a4369873ad631f0e7bc21',\n",
       "   'track_number': 2,\n",
       "   'type': 'track',\n",
       "   'uri': 'spotify:track:7ipGvvE90ROUNFw7ZBXBTO'},\n",
       "  {'album': {'album_type': 'single',\n",
       "    'artists': [{'external_urls': {'spotify': 'https://open.spotify.com/artist/0F52YLV7uWqaJfMMDgG737'},\n",
       "      'href': 'https://api.spotify.com/v1/artists/0F52YLV7uWqaJfMMDgG737',\n",
       "      'id': '0F52YLV7uWqaJfMMDgG737',\n",
       "      'name': 'Virtual Self',\n",
       "      'type': 'artist',\n",
       "      'uri': 'spotify:artist:0F52YLV7uWqaJfMMDgG737'}],\n",
       "    'external_urls': {'spotify': 'https://open.spotify.com/album/3BbIIKqZ8i3NJEDw4dHBr5'},\n",
       "    'href': 'https://api.spotify.com/v1/albums/3BbIIKqZ8i3NJEDw4dHBr5',\n",
       "    'id': '3BbIIKqZ8i3NJEDw4dHBr5',\n",
       "    'images': [{'height': 640,\n",
       "      'url': 'https://i.scdn.co/image/ab67616d0000b2738a137b6b8f14a962ed277635',\n",
       "      'width': 640},\n",
       "     {'height': 300,\n",
       "      'url': 'https://i.scdn.co/image/ab67616d00001e028a137b6b8f14a962ed277635',\n",
       "      'width': 300},\n",
       "     {'height': 64,\n",
       "      'url': 'https://i.scdn.co/image/ab67616d000048518a137b6b8f14a962ed277635',\n",
       "      'width': 64}],\n",
       "    'name': 'ANGEL VOICES',\n",
       "    'release_date': '2018-07-20',\n",
       "    'release_date_precision': 'day',\n",
       "    'total_tracks': 1,\n",
       "    'type': 'album',\n",
       "    'uri': 'spotify:album:3BbIIKqZ8i3NJEDw4dHBr5'},\n",
       "   'artists': [{'external_urls': {'spotify': 'https://open.spotify.com/artist/0F52YLV7uWqaJfMMDgG737'},\n",
       "     'href': 'https://api.spotify.com/v1/artists/0F52YLV7uWqaJfMMDgG737',\n",
       "     'id': '0F52YLV7uWqaJfMMDgG737',\n",
       "     'name': 'Virtual Self',\n",
       "     'type': 'artist',\n",
       "     'uri': 'spotify:artist:0F52YLV7uWqaJfMMDgG737'}],\n",
       "   'disc_number': 1,\n",
       "   'duration_ms': 392259,\n",
       "   'explicit': False,\n",
       "   'external_ids': {'isrc': 'QMUY41800126'},\n",
       "   'external_urls': {'spotify': 'https://open.spotify.com/track/69urju2iS7zKGTxNVLYt5D'},\n",
       "   'href': 'https://api.spotify.com/v1/tracks/69urju2iS7zKGTxNVLYt5D',\n",
       "   'id': '69urju2iS7zKGTxNVLYt5D',\n",
       "   'is_local': False,\n",
       "   'is_playable': True,\n",
       "   'name': 'ANGEL VOICES',\n",
       "   'popularity': 48,\n",
       "   'preview_url': 'https://p.scdn.co/mp3-preview/ad799bbbb592fd426f6e78ec4d767fb72f49bd6c?cid=ccd3e124a27a4369873ad631f0e7bc21',\n",
       "   'track_number': 1,\n",
       "   'type': 'track',\n",
       "   'uri': 'spotify:track:69urju2iS7zKGTxNVLYt5D'},\n",
       "  {'album': {'album_type': 'single',\n",
       "    'artists': [{'external_urls': {'spotify': 'https://open.spotify.com/artist/0F52YLV7uWqaJfMMDgG737'},\n",
       "      'href': 'https://api.spotify.com/v1/artists/0F52YLV7uWqaJfMMDgG737',\n",
       "      'id': '0F52YLV7uWqaJfMMDgG737',\n",
       "      'name': 'Virtual Self',\n",
       "      'type': 'artist',\n",
       "      'uri': 'spotify:artist:0F52YLV7uWqaJfMMDgG737'}],\n",
       "    'external_urls': {'spotify': 'https://open.spotify.com/album/7I3PH61aLVNVj4EVvU16WG'},\n",
       "    'href': 'https://api.spotify.com/v1/albums/7I3PH61aLVNVj4EVvU16WG',\n",
       "    'id': '7I3PH61aLVNVj4EVvU16WG',\n",
       "    'images': [{'height': 640,\n",
       "      'url': 'https://i.scdn.co/image/ab67616d0000b2734ba2d15b6e7f470bfd3e424e',\n",
       "      'width': 640},\n",
       "     {'height': 300,\n",
       "      'url': 'https://i.scdn.co/image/ab67616d00001e024ba2d15b6e7f470bfd3e424e',\n",
       "      'width': 300},\n",
       "     {'height': 64,\n",
       "      'url': 'https://i.scdn.co/image/ab67616d000048514ba2d15b6e7f470bfd3e424e',\n",
       "      'width': 64}],\n",
       "    'name': 'Virtual Self',\n",
       "    'release_date': '2017-11-29',\n",
       "    'release_date_precision': 'day',\n",
       "    'total_tracks': 5,\n",
       "    'type': 'album',\n",
       "    'uri': 'spotify:album:7I3PH61aLVNVj4EVvU16WG'},\n",
       "   'artists': [{'external_urls': {'spotify': 'https://open.spotify.com/artist/0F52YLV7uWqaJfMMDgG737'},\n",
       "     'href': 'https://api.spotify.com/v1/artists/0F52YLV7uWqaJfMMDgG737',\n",
       "     'id': '0F52YLV7uWqaJfMMDgG737',\n",
       "     'name': 'Virtual Self',\n",
       "     'type': 'artist',\n",
       "     'uri': 'spotify:artist:0F52YLV7uWqaJfMMDgG737'}],\n",
       "   'disc_number': 1,\n",
       "   'duration_ms': 234024,\n",
       "   'explicit': False,\n",
       "   'external_ids': {'isrc': 'QMUY41700235'},\n",
       "   'external_urls': {'spotify': 'https://open.spotify.com/track/5U6FLERTCtCgLUXU4XsIf5'},\n",
       "   'href': 'https://api.spotify.com/v1/tracks/5U6FLERTCtCgLUXU4XsIf5',\n",
       "   'id': '5U6FLERTCtCgLUXU4XsIf5',\n",
       "   'is_local': False,\n",
       "   'is_playable': True,\n",
       "   'name': 'Particle Arts',\n",
       "   'popularity': 46,\n",
       "   'preview_url': 'https://p.scdn.co/mp3-preview/1d248ba9492a7a5dc88dd8883af430c7f846cdd4?cid=ccd3e124a27a4369873ad631f0e7bc21',\n",
       "   'track_number': 1,\n",
       "   'type': 'track',\n",
       "   'uri': 'spotify:track:5U6FLERTCtCgLUXU4XsIf5'},\n",
       "  {'album': {'album_type': 'single',\n",
       "    'artists': [{'external_urls': {'spotify': 'https://open.spotify.com/artist/0F52YLV7uWqaJfMMDgG737'},\n",
       "      'href': 'https://api.spotify.com/v1/artists/0F52YLV7uWqaJfMMDgG737',\n",
       "      'id': '0F52YLV7uWqaJfMMDgG737',\n",
       "      'name': 'Virtual Self',\n",
       "      'type': 'artist',\n",
       "      'uri': 'spotify:artist:0F52YLV7uWqaJfMMDgG737'}],\n",
       "    'external_urls': {'spotify': 'https://open.spotify.com/album/7I3PH61aLVNVj4EVvU16WG'},\n",
       "    'href': 'https://api.spotify.com/v1/albums/7I3PH61aLVNVj4EVvU16WG',\n",
       "    'id': '7I3PH61aLVNVj4EVvU16WG',\n",
       "    'images': [{'height': 640,\n",
       "      'url': 'https://i.scdn.co/image/ab67616d0000b2734ba2d15b6e7f470bfd3e424e',\n",
       "      'width': 640},\n",
       "     {'height': 300,\n",
       "      'url': 'https://i.scdn.co/image/ab67616d00001e024ba2d15b6e7f470bfd3e424e',\n",
       "      'width': 300},\n",
       "     {'height': 64,\n",
       "      'url': 'https://i.scdn.co/image/ab67616d000048514ba2d15b6e7f470bfd3e424e',\n",
       "      'width': 64}],\n",
       "    'name': 'Virtual Self',\n",
       "    'release_date': '2017-11-29',\n",
       "    'release_date_precision': 'day',\n",
       "    'total_tracks': 5,\n",
       "    'type': 'album',\n",
       "    'uri': 'spotify:album:7I3PH61aLVNVj4EVvU16WG'},\n",
       "   'artists': [{'external_urls': {'spotify': 'https://open.spotify.com/artist/0F52YLV7uWqaJfMMDgG737'},\n",
       "     'href': 'https://api.spotify.com/v1/artists/0F52YLV7uWqaJfMMDgG737',\n",
       "     'id': '0F52YLV7uWqaJfMMDgG737',\n",
       "     'name': 'Virtual Self',\n",
       "     'type': 'artist',\n",
       "     'uri': 'spotify:artist:0F52YLV7uWqaJfMMDgG737'}],\n",
       "   'disc_number': 1,\n",
       "   'duration_ms': 220097,\n",
       "   'explicit': False,\n",
       "   'external_ids': {'isrc': 'QMUY41700231'},\n",
       "   'external_urls': {'spotify': 'https://open.spotify.com/track/2aGn7X6ixuE9P3zaykgoWM'},\n",
       "   'href': 'https://api.spotify.com/v1/tracks/2aGn7X6ixuE9P3zaykgoWM',\n",
       "   'id': '2aGn7X6ixuE9P3zaykgoWM',\n",
       "   'is_local': False,\n",
       "   'is_playable': True,\n",
       "   'name': 'EON BREAK',\n",
       "   'popularity': 42,\n",
       "   'preview_url': 'https://p.scdn.co/mp3-preview/6785a9ed9732ef72799d3a0e16144efff2804fcb?cid=ccd3e124a27a4369873ad631f0e7bc21',\n",
       "   'track_number': 5,\n",
       "   'type': 'track',\n",
       "   'uri': 'spotify:track:2aGn7X6ixuE9P3zaykgoWM'},\n",
       "  {'album': {'album_type': 'single',\n",
       "    'artists': [{'external_urls': {'spotify': 'https://open.spotify.com/artist/0F52YLV7uWqaJfMMDgG737'},\n",
       "      'href': 'https://api.spotify.com/v1/artists/0F52YLV7uWqaJfMMDgG737',\n",
       "      'id': '0F52YLV7uWqaJfMMDgG737',\n",
       "      'name': 'Virtual Self',\n",
       "      'type': 'artist',\n",
       "      'uri': 'spotify:artist:0F52YLV7uWqaJfMMDgG737'}],\n",
       "    'external_urls': {'spotify': 'https://open.spotify.com/album/7I3PH61aLVNVj4EVvU16WG'},\n",
       "    'href': 'https://api.spotify.com/v1/albums/7I3PH61aLVNVj4EVvU16WG',\n",
       "    'id': '7I3PH61aLVNVj4EVvU16WG',\n",
       "    'images': [{'height': 640,\n",
       "      'url': 'https://i.scdn.co/image/ab67616d0000b2734ba2d15b6e7f470bfd3e424e',\n",
       "      'width': 640},\n",
       "     {'height': 300,\n",
       "      'url': 'https://i.scdn.co/image/ab67616d00001e024ba2d15b6e7f470bfd3e424e',\n",
       "      'width': 300},\n",
       "     {'height': 64,\n",
       "      'url': 'https://i.scdn.co/image/ab67616d000048514ba2d15b6e7f470bfd3e424e',\n",
       "      'width': 64}],\n",
       "    'name': 'Virtual Self',\n",
       "    'release_date': '2017-11-29',\n",
       "    'release_date_precision': 'day',\n",
       "    'total_tracks': 5,\n",
       "    'type': 'album',\n",
       "    'uri': 'spotify:album:7I3PH61aLVNVj4EVvU16WG'},\n",
       "   'artists': [{'external_urls': {'spotify': 'https://open.spotify.com/artist/0F52YLV7uWqaJfMMDgG737'},\n",
       "     'href': 'https://api.spotify.com/v1/artists/0F52YLV7uWqaJfMMDgG737',\n",
       "     'id': '0F52YLV7uWqaJfMMDgG737',\n",
       "     'name': 'Virtual Self',\n",
       "     'type': 'artist',\n",
       "     'uri': 'spotify:artist:0F52YLV7uWqaJfMMDgG737'}],\n",
       "   'disc_number': 1,\n",
       "   'duration_ms': 300850,\n",
       "   'explicit': False,\n",
       "   'external_ids': {'isrc': 'QMUY41700233'},\n",
       "   'external_urls': {'spotify': 'https://open.spotify.com/track/6mEa6eIKJZ99536PCnJymz'},\n",
       "   'href': 'https://api.spotify.com/v1/tracks/6mEa6eIKJZ99536PCnJymz',\n",
       "   'id': '6mEa6eIKJZ99536PCnJymz',\n",
       "   'is_local': False,\n",
       "   'is_playable': True,\n",
       "   'name': 'a.i.ngel (Become God)',\n",
       "   'popularity': 39,\n",
       "   'preview_url': 'https://p.scdn.co/mp3-preview/9dac550962bbe4921e03e447ca5fc2774fa47bc0?cid=ccd3e124a27a4369873ad631f0e7bc21',\n",
       "   'track_number': 3,\n",
       "   'type': 'track',\n",
       "   'uri': 'spotify:track:6mEa6eIKJZ99536PCnJymz'},\n",
       "  {'album': {'album_type': 'single',\n",
       "    'artists': [{'external_urls': {'spotify': 'https://open.spotify.com/artist/0F52YLV7uWqaJfMMDgG737'},\n",
       "      'href': 'https://api.spotify.com/v1/artists/0F52YLV7uWqaJfMMDgG737',\n",
       "      'id': '0F52YLV7uWqaJfMMDgG737',\n",
       "      'name': 'Virtual Self',\n",
       "      'type': 'artist',\n",
       "      'uri': 'spotify:artist:0F52YLV7uWqaJfMMDgG737'}],\n",
       "    'external_urls': {'spotify': 'https://open.spotify.com/album/7I3PH61aLVNVj4EVvU16WG'},\n",
       "    'href': 'https://api.spotify.com/v1/albums/7I3PH61aLVNVj4EVvU16WG',\n",
       "    'id': '7I3PH61aLVNVj4EVvU16WG',\n",
       "    'images': [{'height': 640,\n",
       "      'url': 'https://i.scdn.co/image/ab67616d0000b2734ba2d15b6e7f470bfd3e424e',\n",
       "      'width': 640},\n",
       "     {'height': 300,\n",
       "      'url': 'https://i.scdn.co/image/ab67616d00001e024ba2d15b6e7f470bfd3e424e',\n",
       "      'width': 300},\n",
       "     {'height': 64,\n",
       "      'url': 'https://i.scdn.co/image/ab67616d000048514ba2d15b6e7f470bfd3e424e',\n",
       "      'width': 64}],\n",
       "    'name': 'Virtual Self',\n",
       "    'release_date': '2017-11-29',\n",
       "    'release_date_precision': 'day',\n",
       "    'total_tracks': 5,\n",
       "    'type': 'album',\n",
       "    'uri': 'spotify:album:7I3PH61aLVNVj4EVvU16WG'},\n",
       "   'artists': [{'external_urls': {'spotify': 'https://open.spotify.com/artist/0F52YLV7uWqaJfMMDgG737'},\n",
       "     'href': 'https://api.spotify.com/v1/artists/0F52YLV7uWqaJfMMDgG737',\n",
       "     'id': '0F52YLV7uWqaJfMMDgG737',\n",
       "     'name': 'Virtual Self',\n",
       "     'type': 'artist',\n",
       "     'uri': 'spotify:artist:0F52YLV7uWqaJfMMDgG737'}],\n",
       "   'disc_number': 1,\n",
       "   'duration_ms': 212259,\n",
       "   'explicit': False,\n",
       "   'external_ids': {'isrc': 'QMUY41700234'},\n",
       "   'external_urls': {'spotify': 'https://open.spotify.com/track/0IfrEjgQpic3vnDYYgtp9C'},\n",
       "   'href': 'https://api.spotify.com/v1/tracks/0IfrEjgQpic3vnDYYgtp9C',\n",
       "   'id': '0IfrEjgQpic3vnDYYgtp9C',\n",
       "   'is_local': False,\n",
       "   'is_playable': True,\n",
       "   'name': 'Key',\n",
       "   'popularity': 37,\n",
       "   'preview_url': 'https://p.scdn.co/mp3-preview/b455f041f4de7596eb81e6d569f529b898e22014?cid=ccd3e124a27a4369873ad631f0e7bc21',\n",
       "   'track_number': 4,\n",
       "   'type': 'track',\n",
       "   'uri': 'spotify:track:0IfrEjgQpic3vnDYYgtp9C'},\n",
       "  {'album': {'album_type': 'single',\n",
       "    'artists': [{'external_urls': {'spotify': 'https://open.spotify.com/artist/0F52YLV7uWqaJfMMDgG737'},\n",
       "      'href': 'https://api.spotify.com/v1/artists/0F52YLV7uWqaJfMMDgG737',\n",
       "      'id': '0F52YLV7uWqaJfMMDgG737',\n",
       "      'name': 'Virtual Self',\n",
       "      'type': 'artist',\n",
       "      'uri': 'spotify:artist:0F52YLV7uWqaJfMMDgG737'}],\n",
       "    'external_urls': {'spotify': 'https://open.spotify.com/album/3VTEdjIhHoyz75K9qQcLtC'},\n",
       "    'href': 'https://api.spotify.com/v1/albums/3VTEdjIhHoyz75K9qQcLtC',\n",
       "    'id': '3VTEdjIhHoyz75K9qQcLtC',\n",
       "    'images': [{'height': 640,\n",
       "      'url': 'https://i.scdn.co/image/ab67616d0000b2735e965541fd223a1aeb5badd1',\n",
       "      'width': 640},\n",
       "     {'height': 300,\n",
       "      'url': 'https://i.scdn.co/image/ab67616d00001e025e965541fd223a1aeb5badd1',\n",
       "      'width': 300},\n",
       "     {'height': 64,\n",
       "      'url': 'https://i.scdn.co/image/ab67616d000048515e965541fd223a1aeb5badd1',\n",
       "      'width': 64}],\n",
       "    'name': 'Ghost Voices (Radio Edit)',\n",
       "    'release_date': '2018-03-14',\n",
       "    'release_date_precision': 'day',\n",
       "    'total_tracks': 1,\n",
       "    'type': 'album',\n",
       "    'uri': 'spotify:album:3VTEdjIhHoyz75K9qQcLtC'},\n",
       "   'artists': [{'external_urls': {'spotify': 'https://open.spotify.com/artist/0F52YLV7uWqaJfMMDgG737'},\n",
       "     'href': 'https://api.spotify.com/v1/artists/0F52YLV7uWqaJfMMDgG737',\n",
       "     'id': '0F52YLV7uWqaJfMMDgG737',\n",
       "     'name': 'Virtual Self',\n",
       "     'type': 'artist',\n",
       "     'uri': 'spotify:artist:0F52YLV7uWqaJfMMDgG737'}],\n",
       "   'disc_number': 1,\n",
       "   'duration_ms': 198989,\n",
       "   'explicit': False,\n",
       "   'external_ids': {'isrc': 'QMUY41800026'},\n",
       "   'external_urls': {'spotify': 'https://open.spotify.com/track/1PW2yk9vy9UBq738C4KZP7'},\n",
       "   'href': 'https://api.spotify.com/v1/tracks/1PW2yk9vy9UBq738C4KZP7',\n",
       "   'id': '1PW2yk9vy9UBq738C4KZP7',\n",
       "   'is_local': False,\n",
       "   'is_playable': True,\n",
       "   'name': 'Ghost Voices - Radio Edit',\n",
       "   'popularity': 37,\n",
       "   'preview_url': 'https://p.scdn.co/mp3-preview/700e367f846629da147111b4218b0f044a0dfd3e?cid=ccd3e124a27a4369873ad631f0e7bc21',\n",
       "   'track_number': 1,\n",
       "   'type': 'track',\n",
       "   'uri': 'spotify:track:1PW2yk9vy9UBq738C4KZP7'},\n",
       "  {'album': {'album_type': 'single',\n",
       "    'artists': [{'external_urls': {'spotify': 'https://open.spotify.com/artist/0F52YLV7uWqaJfMMDgG737'},\n",
       "      'href': 'https://api.spotify.com/v1/artists/0F52YLV7uWqaJfMMDgG737',\n",
       "      'id': '0F52YLV7uWqaJfMMDgG737',\n",
       "      'name': 'Virtual Self',\n",
       "      'type': 'artist',\n",
       "      'uri': 'spotify:artist:0F52YLV7uWqaJfMMDgG737'},\n",
       "     {'external_urls': {'spotify': 'https://open.spotify.com/artist/5RXdPHNmsB6OQn8rUyRQtl'},\n",
       "      'href': 'https://api.spotify.com/v1/artists/5RXdPHNmsB6OQn8rUyRQtl',\n",
       "      'id': '5RXdPHNmsB6OQn8rUyRQtl',\n",
       "      'name': 'Raito',\n",
       "      'type': 'artist',\n",
       "      'uri': 'spotify:artist:5RXdPHNmsB6OQn8rUyRQtl'}],\n",
       "    'external_urls': {'spotify': 'https://open.spotify.com/album/7iiQ4ZI7aqaXT2E3Imaa0Y'},\n",
       "    'href': 'https://api.spotify.com/v1/albums/7iiQ4ZI7aqaXT2E3Imaa0Y',\n",
       "    'id': '7iiQ4ZI7aqaXT2E3Imaa0Y',\n",
       "    'images': [{'height': 640,\n",
       "      'url': 'https://i.scdn.co/image/ab67616d0000b273fdcfc87dee92f91802513935',\n",
       "      'width': 640},\n",
       "     {'height': 300,\n",
       "      'url': 'https://i.scdn.co/image/ab67616d00001e02fdcfc87dee92f91802513935',\n",
       "      'width': 300},\n",
       "     {'height': 64,\n",
       "      'url': 'https://i.scdn.co/image/ab67616d00004851fdcfc87dee92f91802513935',\n",
       "      'width': 64}],\n",
       "    'name': 'Ghost Voices (Raito Remixes)',\n",
       "    'release_date': '2018-04-06',\n",
       "    'release_date_precision': 'day',\n",
       "    'total_tracks': 2,\n",
       "    'type': 'album',\n",
       "    'uri': 'spotify:album:7iiQ4ZI7aqaXT2E3Imaa0Y'},\n",
       "   'artists': [{'external_urls': {'spotify': 'https://open.spotify.com/artist/0F52YLV7uWqaJfMMDgG737'},\n",
       "     'href': 'https://api.spotify.com/v1/artists/0F52YLV7uWqaJfMMDgG737',\n",
       "     'id': '0F52YLV7uWqaJfMMDgG737',\n",
       "     'name': 'Virtual Self',\n",
       "     'type': 'artist',\n",
       "     'uri': 'spotify:artist:0F52YLV7uWqaJfMMDgG737'},\n",
       "    {'external_urls': {'spotify': 'https://open.spotify.com/artist/5RXdPHNmsB6OQn8rUyRQtl'},\n",
       "     'href': 'https://api.spotify.com/v1/artists/5RXdPHNmsB6OQn8rUyRQtl',\n",
       "     'id': '5RXdPHNmsB6OQn8rUyRQtl',\n",
       "     'name': 'Raito',\n",
       "     'type': 'artist',\n",
       "     'uri': 'spotify:artist:5RXdPHNmsB6OQn8rUyRQtl'}],\n",
       "   'disc_number': 1,\n",
       "   'duration_ms': 360000,\n",
       "   'explicit': False,\n",
       "   'external_ids': {'isrc': 'QMUY41800027'},\n",
       "   'external_urls': {'spotify': 'https://open.spotify.com/track/20dSSd0dBDPtVnQJ1X5HM1'},\n",
       "   'href': 'https://api.spotify.com/v1/tracks/20dSSd0dBDPtVnQJ1X5HM1',\n",
       "   'id': '20dSSd0dBDPtVnQJ1X5HM1',\n",
       "   'is_local': False,\n",
       "   'is_playable': True,\n",
       "   'name': 'Ghost Voices - Raito Remix',\n",
       "   'popularity': 31,\n",
       "   'preview_url': 'https://p.scdn.co/mp3-preview/5bbb2115ad38ca2d26aa93735ed824b9ab609caf?cid=ccd3e124a27a4369873ad631f0e7bc21',\n",
       "   'track_number': 1,\n",
       "   'type': 'track',\n",
       "   'uri': 'spotify:track:20dSSd0dBDPtVnQJ1X5HM1'},\n",
       "  {'album': {'album_type': 'single',\n",
       "    'artists': [{'external_urls': {'spotify': 'https://open.spotify.com/artist/0F52YLV7uWqaJfMMDgG737'},\n",
       "      'href': 'https://api.spotify.com/v1/artists/0F52YLV7uWqaJfMMDgG737',\n",
       "      'id': '0F52YLV7uWqaJfMMDgG737',\n",
       "      'name': 'Virtual Self',\n",
       "      'type': 'artist',\n",
       "      'uri': 'spotify:artist:0F52YLV7uWqaJfMMDgG737'},\n",
       "     {'external_urls': {'spotify': 'https://open.spotify.com/artist/5RXdPHNmsB6OQn8rUyRQtl'},\n",
       "      'href': 'https://api.spotify.com/v1/artists/5RXdPHNmsB6OQn8rUyRQtl',\n",
       "      'id': '5RXdPHNmsB6OQn8rUyRQtl',\n",
       "      'name': 'Raito',\n",
       "      'type': 'artist',\n",
       "      'uri': 'spotify:artist:5RXdPHNmsB6OQn8rUyRQtl'}],\n",
       "    'external_urls': {'spotify': 'https://open.spotify.com/album/7iiQ4ZI7aqaXT2E3Imaa0Y'},\n",
       "    'href': 'https://api.spotify.com/v1/albums/7iiQ4ZI7aqaXT2E3Imaa0Y',\n",
       "    'id': '7iiQ4ZI7aqaXT2E3Imaa0Y',\n",
       "    'images': [{'height': 640,\n",
       "      'url': 'https://i.scdn.co/image/ab67616d0000b273fdcfc87dee92f91802513935',\n",
       "      'width': 640},\n",
       "     {'height': 300,\n",
       "      'url': 'https://i.scdn.co/image/ab67616d00001e02fdcfc87dee92f91802513935',\n",
       "      'width': 300},\n",
       "     {'height': 64,\n",
       "      'url': 'https://i.scdn.co/image/ab67616d00004851fdcfc87dee92f91802513935',\n",
       "      'width': 64}],\n",
       "    'name': 'Ghost Voices (Raito Remixes)',\n",
       "    'release_date': '2018-04-06',\n",
       "    'release_date_precision': 'day',\n",
       "    'total_tracks': 2,\n",
       "    'type': 'album',\n",
       "    'uri': 'spotify:album:7iiQ4ZI7aqaXT2E3Imaa0Y'},\n",
       "   'artists': [{'external_urls': {'spotify': 'https://open.spotify.com/artist/0F52YLV7uWqaJfMMDgG737'},\n",
       "     'href': 'https://api.spotify.com/v1/artists/0F52YLV7uWqaJfMMDgG737',\n",
       "     'id': '0F52YLV7uWqaJfMMDgG737',\n",
       "     'name': 'Virtual Self',\n",
       "     'type': 'artist',\n",
       "     'uri': 'spotify:artist:0F52YLV7uWqaJfMMDgG737'},\n",
       "    {'external_urls': {'spotify': 'https://open.spotify.com/artist/5RXdPHNmsB6OQn8rUyRQtl'},\n",
       "     'href': 'https://api.spotify.com/v1/artists/5RXdPHNmsB6OQn8rUyRQtl',\n",
       "     'id': '5RXdPHNmsB6OQn8rUyRQtl',\n",
       "     'name': 'Raito',\n",
       "     'type': 'artist',\n",
       "     'uri': 'spotify:artist:5RXdPHNmsB6OQn8rUyRQtl'}],\n",
       "   'disc_number': 1,\n",
       "   'duration_ms': 281904,\n",
       "   'explicit': False,\n",
       "   'external_ids': {'isrc': 'QMUY41800037'},\n",
       "   'external_urls': {'spotify': 'https://open.spotify.com/track/0PNhnZ8bMadKzP07XVVkvD'},\n",
       "   'href': 'https://api.spotify.com/v1/tracks/0PNhnZ8bMadKzP07XVVkvD',\n",
       "   'id': '0PNhnZ8bMadKzP07XVVkvD',\n",
       "   'is_local': False,\n",
       "   'is_playable': True,\n",
       "   'name': 'Ghost Voices - Raito Old School Remix',\n",
       "   'popularity': 27,\n",
       "   'preview_url': 'https://p.scdn.co/mp3-preview/a3e2a9aa0bce0a7e70ab353daef7dff16962e082?cid=ccd3e124a27a4369873ad631f0e7bc21',\n",
       "   'track_number': 2,\n",
       "   'type': 'track',\n",
       "   'uri': 'spotify:track:0PNhnZ8bMadKzP07XVVkvD'},\n",
       "  {'album': {'album_type': 'compilation',\n",
       "    'artists': [{'external_urls': {'spotify': 'https://open.spotify.com/artist/0SfsnGyD8FpIN4U4WCkBZ5'},\n",
       "      'href': 'https://api.spotify.com/v1/artists/0SfsnGyD8FpIN4U4WCkBZ5',\n",
       "      'id': '0SfsnGyD8FpIN4U4WCkBZ5',\n",
       "      'name': 'Armin van Buuren',\n",
       "      'type': 'artist',\n",
       "      'uri': 'spotify:artist:0SfsnGyD8FpIN4U4WCkBZ5'}],\n",
       "    'external_urls': {'spotify': 'https://open.spotify.com/album/1kS7q9KBO8X6xfGffRcYaH'},\n",
       "    'href': 'https://api.spotify.com/v1/albums/1kS7q9KBO8X6xfGffRcYaH',\n",
       "    'id': '1kS7q9KBO8X6xfGffRcYaH',\n",
       "    'images': [{'height': 640,\n",
       "      'url': 'https://i.scdn.co/image/ab67616d0000b2733fc6ea34ea96b202f0e846dd',\n",
       "      'width': 640},\n",
       "     {'height': 300,\n",
       "      'url': 'https://i.scdn.co/image/ab67616d00001e023fc6ea34ea96b202f0e846dd',\n",
       "      'width': 300},\n",
       "     {'height': 64,\n",
       "      'url': 'https://i.scdn.co/image/ab67616d000048513fc6ea34ea96b202f0e846dd',\n",
       "      'width': 64}],\n",
       "    'name': 'A State Of Trance Year Mix 2018 (Mixed by Armin van Buuren)',\n",
       "    'release_date': '2018-12-14',\n",
       "    'release_date_precision': 'day',\n",
       "    'total_tracks': 105,\n",
       "    'type': 'album',\n",
       "    'uri': 'spotify:album:1kS7q9KBO8X6xfGffRcYaH'},\n",
       "   'artists': [{'external_urls': {'spotify': 'https://open.spotify.com/artist/0F52YLV7uWqaJfMMDgG737'},\n",
       "     'href': 'https://api.spotify.com/v1/artists/0F52YLV7uWqaJfMMDgG737',\n",
       "     'id': '0F52YLV7uWqaJfMMDgG737',\n",
       "     'name': 'Virtual Self',\n",
       "     'type': 'artist',\n",
       "     'uri': 'spotify:artist:0F52YLV7uWqaJfMMDgG737'},\n",
       "    {'external_urls': {'spotify': 'https://open.spotify.com/artist/5RXdPHNmsB6OQn8rUyRQtl'},\n",
       "     'href': 'https://api.spotify.com/v1/artists/5RXdPHNmsB6OQn8rUyRQtl',\n",
       "     'id': '5RXdPHNmsB6OQn8rUyRQtl',\n",
       "     'name': 'Raito',\n",
       "     'type': 'artist',\n",
       "     'uri': 'spotify:artist:5RXdPHNmsB6OQn8rUyRQtl'}],\n",
       "   'disc_number': 1,\n",
       "   'duration_ms': 43213,\n",
       "   'explicit': False,\n",
       "   'external_ids': {'isrc': 'NLF711813801'},\n",
       "   'external_urls': {'spotify': 'https://open.spotify.com/track/2gB2TiD2hM3lj6nwUmzQJp'},\n",
       "   'href': 'https://api.spotify.com/v1/tracks/2gB2TiD2hM3lj6nwUmzQJp',\n",
       "   'id': '2gB2TiD2hM3lj6nwUmzQJp',\n",
       "   'is_local': False,\n",
       "   'is_playable': True,\n",
       "   'name': 'Ghost Voices (Mixed) - Raito Remix',\n",
       "   'popularity': 24,\n",
       "   'preview_url': 'https://p.scdn.co/mp3-preview/45ef238c7ec5485ad029bdf9a7d0cc07e80b0d9b?cid=ccd3e124a27a4369873ad631f0e7bc21',\n",
       "   'track_number': 20,\n",
       "   'type': 'track',\n",
       "   'uri': 'spotify:track:2gB2TiD2hM3lj6nwUmzQJp'}]}"
      ]
     },
     "execution_count": 28,
     "metadata": {},
     "output_type": "execute_result"
    }
   ],
   "source": [
    "results"
   ]
  },
  {
   "cell_type": "code",
   "execution_count": null,
   "id": "27e5ab02-c60d-4c51-984b-19e3b472df12",
   "metadata": {},
   "outputs": [],
   "source": [
    "plot()"
   ]
  }
 ],
 "metadata": {
  "kernelspec": {
   "display_name": "Python 3 (ipykernel)",
   "language": "python",
   "name": "python3"
  },
  "language_info": {
   "codemirror_mode": {
    "name": "ipython",
    "version": 3
   },
   "file_extension": ".py",
   "mimetype": "text/x-python",
   "name": "python",
   "nbconvert_exporter": "python",
   "pygments_lexer": "ipython3",
   "version": "3.9.7"
  }
 },
 "nbformat": 4,
 "nbformat_minor": 5
}
